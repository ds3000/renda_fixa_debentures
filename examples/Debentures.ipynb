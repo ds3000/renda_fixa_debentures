{
 "cells": [
  {
   "cell_type": "markdown",
   "metadata": {},
   "source": [
    "# Debêntures"
   ]
  },
  {
   "cell_type": "markdown",
   "metadata": {},
   "source": [
    "Importe o módulo 'finance' para precificar debêntures."
   ]
  },
  {
   "cell_type": "code",
   "execution_count": 1,
   "metadata": {},
   "outputs": [],
   "source": [
    "%run ../docs/fibra.py"
   ]
  },
  {
   "cell_type": "markdown",
   "metadata": {},
   "source": [
    "**( ! )** NOTA: As debêntures nem sempre possuem um padrão de emissão como os títulos públicos, portanto é importante a leitura da escritura para entender os aspectos específicos de cada título. Esse módulo permite calcular o preço de grande parte das debêntures disponíveis no mercado que são remuneradas pelo **percentual DI**, **DI spread** e **IPCA spread**."
   ]
  },
  {
   "cell_type": "markdown",
   "metadata": {},
   "source": [
    "Parâmetros globais:\n",
    "\n",
    "**DATA_REF** = Data de referência do cálculo.\n",
    "\n",
    "**YIELD_CURVE_PATH** = Caminho para o arquivo contendo os vértices e as taxas dos contratos futuros de juros."
   ]
  },
  {
   "cell_type": "code",
   "execution_count": 2,
   "metadata": {},
   "outputs": [],
   "source": [
    "DATA_REF = \"2021-03-18\"\n",
    "YIELD_CURVE_PATH = \"../interest_rates_futures/20210318-DIFUT.csv\""
   ]
  },
  {
   "cell_type": "markdown",
   "metadata": {},
   "source": [
    "## Debêntures DI Spread"
   ]
  },
  {
   "cell_type": "markdown",
   "metadata": {
    "collapsed": true
   },
   "source": [
    "### Grupo Natura"
   ]
  },
  {
   "cell_type": "markdown",
   "metadata": {},
   "source": [
    "- Código: **NATU27**\n",
    "- Série 2\n",
    "- 7ª Emissão\n",
    "- ISIN: **BRNATUDBS081**\n",
    "- ANBIMA: https://data.anbima.com.br/debentures/emissores/71673990000177/emissoes/7/series/NATU27/caracteristicas"
   ]
  },
  {
   "cell_type": "markdown",
   "metadata": {},
   "source": [
    "Preencha os dados do título:\n",
    "- ***DATA***: Data de referência para o cálculo do preço do ativo.\n",
    "- ***VNE***: Valor Nominal de Emissão.\n",
    "- ***VNA***: Valor Nominal Atualizado na data de referência.\n",
    "- ***PU***: Preço Unitário do título ao Par (marcado na curva).\n",
    "- ***TAXA***: Taxa indicativa (taxa de mercado) da ANBIMA.\n",
    "- ***FREQ***: Frequência de pagamentos (1: Anual, 2: Semestral, 3: Trimestral, etc)."
   ]
  },
  {
   "cell_type": "code",
   "execution_count": 3,
   "metadata": {},
   "outputs": [],
   "source": [
    "DATA_natura = DATA_REF\n",
    "VNE_natura = 10000\n",
    "VNA_natura = 10000\n",
    "PU_natura = 10170.808970\n",
    "TAXA_natura = 0.7883\n",
    "FREQ_natura = 2"
   ]
  },
  {
   "cell_type": "markdown",
   "metadata": {},
   "source": [
    "**( ! )** Informe o calendário de amortizações como **percentual do valor nominal atualizado - VNA** (1 pra 100%, 0.50 para 50%, 0,33 para 33,33%, etc.)"
   ]
  },
  {
   "cell_type": "code",
   "execution_count": 4,
   "metadata": {},
   "outputs": [],
   "source": [
    "cal_natura = {\"2021-09-27\": 1}"
   ]
  },
  {
   "cell_type": "code",
   "execution_count": 5,
   "metadata": {},
   "outputs": [],
   "source": [
    "natura = DebentureSpread(date=DATA_natura, maturity=\"2021-09-25\", vne=VNE_natura, vna=VNA_natura, pu=PU_natura,\n",
    "                         issue_spread=1.75, market_spread=TAXA_natura, freq=FREQ_natura, redemption=cal_natura,\n",
    "                         yield_curve_file=YIELD_CURVE_PATH)"
   ]
  },
  {
   "cell_type": "code",
   "execution_count": 6,
   "metadata": {},
   "outputs": [
    {
     "data": {
      "text/html": [
       "<div>\n",
       "<style scoped>\n",
       "    .dataframe tbody tr th:only-of-type {\n",
       "        vertical-align: middle;\n",
       "    }\n",
       "\n",
       "    .dataframe tbody tr th {\n",
       "        vertical-align: top;\n",
       "    }\n",
       "\n",
       "    .dataframe thead th {\n",
       "        text-align: right;\n",
       "    }\n",
       "</style>\n",
       "<table border=\"1\" class=\"dataframe\">\n",
       "  <thead>\n",
       "    <tr style=\"text-align: right;\">\n",
       "      <th></th>\n",
       "      <th>Debenture DI Spread</th>\n",
       "    </tr>\n",
       "  </thead>\n",
       "  <tbody>\n",
       "    <tr>\n",
       "      <th>Convention</th>\n",
       "      <td>DI Spread</td>\n",
       "    </tr>\n",
       "    <tr>\n",
       "      <th>Frequency</th>\n",
       "      <td>Semi-annual</td>\n",
       "    </tr>\n",
       "    <tr>\n",
       "      <th>Date</th>\n",
       "      <td>2021-03-18</td>\n",
       "    </tr>\n",
       "    <tr>\n",
       "      <th>Maturity</th>\n",
       "      <td>2021-09-25</td>\n",
       "    </tr>\n",
       "    <tr>\n",
       "      <th>Last payment date</th>\n",
       "      <td>2020-09-25</td>\n",
       "    </tr>\n",
       "    <tr>\n",
       "      <th>Next payment date</th>\n",
       "      <td>2021-03-25</td>\n",
       "    </tr>\n",
       "    <tr>\n",
       "      <th>Days to next payment</th>\n",
       "      <td>5</td>\n",
       "    </tr>\n",
       "    <tr>\n",
       "      <th>Remaining payments</th>\n",
       "      <td>2</td>\n",
       "    </tr>\n",
       "    <tr>\n",
       "      <th>Term to maturity</th>\n",
       "      <td>0.53</td>\n",
       "    </tr>\n",
       "    <tr>\n",
       "      <th>VNE</th>\n",
       "      <td>10000.000000</td>\n",
       "    </tr>\n",
       "    <tr>\n",
       "      <th>VNA</th>\n",
       "      <td>10000.000000</td>\n",
       "    </tr>\n",
       "    <tr>\n",
       "      <th>PU Par</th>\n",
       "      <td>10170.808970</td>\n",
       "    </tr>\n",
       "    <tr>\n",
       "      <th>Price</th>\n",
       "      <td>10221.045950</td>\n",
       "    </tr>\n",
       "    <tr>\n",
       "      <th>Price/Par ratio</th>\n",
       "      <td>100.49%</td>\n",
       "    </tr>\n",
       "    <tr>\n",
       "      <th>Issue rate</th>\n",
       "      <td>1.7500%</td>\n",
       "    </tr>\n",
       "    <tr>\n",
       "      <th>Market rate</th>\n",
       "      <td>0.7883%</td>\n",
       "    </tr>\n",
       "    <tr>\n",
       "      <th>Duration</th>\n",
       "      <td>0.52</td>\n",
       "    </tr>\n",
       "  </tbody>\n",
       "</table>\n",
       "</div>"
      ],
      "text/plain": [
       "                     Debenture DI Spread\n",
       "Convention                     DI Spread\n",
       "Frequency                    Semi-annual\n",
       "Date                          2021-03-18\n",
       "Maturity                      2021-09-25\n",
       "Last payment date             2020-09-25\n",
       "Next payment date             2021-03-25\n",
       "Days to next payment                   5\n",
       "Remaining payments                     2\n",
       "Term to maturity                    0.53\n",
       "VNE                         10000.000000\n",
       "VNA                         10000.000000\n",
       "PU Par                      10170.808970\n",
       "Price                       10221.045950\n",
       "Price/Par ratio                  100.49%\n",
       "Issue rate                       1.7500%\n",
       "Market rate                      0.7883%\n",
       "Duration                            0.52"
      ]
     },
     "execution_count": 6,
     "metadata": {},
     "output_type": "execute_result"
    }
   ],
   "source": [
    "natura.des()"
   ]
  },
  {
   "cell_type": "code",
   "execution_count": 7,
   "metadata": {},
   "outputs": [],
   "source": [
    "cf_natura = natura.cashflow()"
   ]
  },
  {
   "cell_type": "code",
   "execution_count": 8,
   "metadata": {},
   "outputs": [
    {
     "data": {
      "text/html": [
       "<div>\n",
       "<style scoped>\n",
       "    .dataframe tbody tr th:only-of-type {\n",
       "        vertical-align: middle;\n",
       "    }\n",
       "\n",
       "    .dataframe tbody tr th {\n",
       "        vertical-align: top;\n",
       "    }\n",
       "\n",
       "    .dataframe thead th {\n",
       "        text-align: right;\n",
       "    }\n",
       "</style>\n",
       "<table border=\"1\" class=\"dataframe\">\n",
       "  <thead>\n",
       "    <tr style=\"text-align: right;\">\n",
       "      <th></th>\n",
       "      <th>Date</th>\n",
       "      <th>Days</th>\n",
       "      <th>DI</th>\n",
       "      <th>VNA</th>\n",
       "      <th>Interests</th>\n",
       "      <th>Redemptions</th>\n",
       "      <th>Payments</th>\n",
       "      <th>PV of Cash Flows</th>\n",
       "    </tr>\n",
       "  </thead>\n",
       "  <tbody>\n",
       "    <tr>\n",
       "      <th>0</th>\n",
       "      <td>2021-03-25</td>\n",
       "      <td>5</td>\n",
       "      <td>2.645583</td>\n",
       "      <td>10000.0</td>\n",
       "      <td>179.583171</td>\n",
       "      <td>0.0</td>\n",
       "      <td>179.583171</td>\n",
       "      <td>179.462193</td>\n",
       "    </tr>\n",
       "    <tr>\n",
       "      <th>1</th>\n",
       "      <td>2021-09-27</td>\n",
       "      <td>133</td>\n",
       "      <td>3.974169</td>\n",
       "      <td>10000.0</td>\n",
       "      <td>292.831916</td>\n",
       "      <td>10000.0</td>\n",
       "      <td>10292.831916</td>\n",
       "      <td>10041.583758</td>\n",
       "    </tr>\n",
       "  </tbody>\n",
       "</table>\n",
       "</div>"
      ],
      "text/plain": [
       "         Date  Days        DI      VNA   Interests  Redemptions      Payments  \\\n",
       "0  2021-03-25     5  2.645583  10000.0  179.583171          0.0    179.583171   \n",
       "1  2021-09-27   133  3.974169  10000.0  292.831916      10000.0  10292.831916   \n",
       "\n",
       "   PV of Cash Flows  \n",
       "0        179.462193  \n",
       "1      10041.583758  "
      ]
     },
     "execution_count": 8,
     "metadata": {},
     "output_type": "execute_result"
    }
   ],
   "source": [
    "cf_natura.head()"
   ]
  },
  {
   "cell_type": "code",
   "execution_count": 9,
   "metadata": {},
   "outputs": [
    {
     "data": {
      "text/plain": [
       "'10221.045950'"
      ]
     },
     "execution_count": 9,
     "metadata": {},
     "output_type": "execute_result"
    }
   ],
   "source": [
    "natura.get(\"price\")"
   ]
  },
  {
   "cell_type": "markdown",
   "metadata": {},
   "source": [
    "### Natura Cosméticos\n",
    "\n",
    "- Código: NATUC0\n",
    "- Série 3\n",
    "- 10ª Emissão\n",
    "- ISIN: **BRNATUDBS0F6**\n",
    "- ANBIMA: https://data.anbima.com.br/debentures/emissores/71673990000177/emissoes/10/series/NATUC0/caracteristicas"
   ]
  },
  {
   "cell_type": "code",
   "execution_count": 10,
   "metadata": {},
   "outputs": [],
   "source": [
    "DATA_natuco = DATA_REF\n",
    "VNE_natuco = 10000\n",
    "VNA_natuco = 10000\n",
    "PU_natuco = 10016.822800\n",
    "TAXA_natuco = 1.5847\n",
    "FREQ_natuco = 2"
   ]
  },
  {
   "cell_type": "markdown",
   "metadata": {},
   "source": [
    "**( ! )** Informe o calendário de amortizações como **percentual do valor nominal atualizado - VNA** (1 pra 100%, 0.50 para 50%, 0,33 para 33,33%, etc.)"
   ]
  },
  {
   "cell_type": "code",
   "execution_count": 11,
   "metadata": {},
   "outputs": [],
   "source": [
    "cal_natuco = {\"2024-08-26\": 1}"
   ]
  },
  {
   "cell_type": "code",
   "execution_count": 12,
   "metadata": {},
   "outputs": [],
   "source": [
    "natuco = DebentureSpread(date=DATA_natuco, maturity=\"2024-08-26\", vne=VNE_natuco, vna=VNA_natuco, pu=PU_natuco,\n",
    "                         issue_spread=1.1500, market_spread=TAXA_natuco, freq=FREQ_natuco, redemption=cal_natuco,\n",
    "                         yield_curve_file=YIELD_CURVE_PATH)"
   ]
  },
  {
   "cell_type": "code",
   "execution_count": 13,
   "metadata": {},
   "outputs": [
    {
     "data": {
      "text/html": [
       "<div>\n",
       "<style scoped>\n",
       "    .dataframe tbody tr th:only-of-type {\n",
       "        vertical-align: middle;\n",
       "    }\n",
       "\n",
       "    .dataframe tbody tr th {\n",
       "        vertical-align: top;\n",
       "    }\n",
       "\n",
       "    .dataframe thead th {\n",
       "        text-align: right;\n",
       "    }\n",
       "</style>\n",
       "<table border=\"1\" class=\"dataframe\">\n",
       "  <thead>\n",
       "    <tr style=\"text-align: right;\">\n",
       "      <th></th>\n",
       "      <th>Debenture DI Spread</th>\n",
       "    </tr>\n",
       "  </thead>\n",
       "  <tbody>\n",
       "    <tr>\n",
       "      <th>Convention</th>\n",
       "      <td>DI Spread</td>\n",
       "    </tr>\n",
       "    <tr>\n",
       "      <th>Frequency</th>\n",
       "      <td>Semi-annual</td>\n",
       "    </tr>\n",
       "    <tr>\n",
       "      <th>Date</th>\n",
       "      <td>2021-03-18</td>\n",
       "    </tr>\n",
       "    <tr>\n",
       "      <th>Maturity</th>\n",
       "      <td>2024-08-26</td>\n",
       "    </tr>\n",
       "    <tr>\n",
       "      <th>Last payment date</th>\n",
       "      <td>2021-02-26</td>\n",
       "    </tr>\n",
       "    <tr>\n",
       "      <th>Next payment date</th>\n",
       "      <td>2021-08-26</td>\n",
       "    </tr>\n",
       "    <tr>\n",
       "      <th>Days to next payment</th>\n",
       "      <td>112</td>\n",
       "    </tr>\n",
       "    <tr>\n",
       "      <th>Remaining payments</th>\n",
       "      <td>7</td>\n",
       "    </tr>\n",
       "    <tr>\n",
       "      <th>Term to maturity</th>\n",
       "      <td>3.43</td>\n",
       "    </tr>\n",
       "    <tr>\n",
       "      <th>VNE</th>\n",
       "      <td>10000.000000</td>\n",
       "    </tr>\n",
       "    <tr>\n",
       "      <th>VNA</th>\n",
       "      <td>10000.000000</td>\n",
       "    </tr>\n",
       "    <tr>\n",
       "      <th>PU Par</th>\n",
       "      <td>10016.822800</td>\n",
       "    </tr>\n",
       "    <tr>\n",
       "      <th>Price</th>\n",
       "      <td>9885.190036</td>\n",
       "    </tr>\n",
       "    <tr>\n",
       "      <th>Price/Par ratio</th>\n",
       "      <td>98.69%</td>\n",
       "    </tr>\n",
       "    <tr>\n",
       "      <th>Issue rate</th>\n",
       "      <td>1.1500%</td>\n",
       "    </tr>\n",
       "    <tr>\n",
       "      <th>Market rate</th>\n",
       "      <td>1.5847%</td>\n",
       "    </tr>\n",
       "    <tr>\n",
       "      <th>Duration</th>\n",
       "      <td>3.08</td>\n",
       "    </tr>\n",
       "  </tbody>\n",
       "</table>\n",
       "</div>"
      ],
      "text/plain": [
       "                     Debenture DI Spread\n",
       "Convention                     DI Spread\n",
       "Frequency                    Semi-annual\n",
       "Date                          2021-03-18\n",
       "Maturity                      2024-08-26\n",
       "Last payment date             2021-02-26\n",
       "Next payment date             2021-08-26\n",
       "Days to next payment                 112\n",
       "Remaining payments                     7\n",
       "Term to maturity                    3.43\n",
       "VNE                         10000.000000\n",
       "VNA                         10000.000000\n",
       "PU Par                      10016.822800\n",
       "Price                        9885.190036\n",
       "Price/Par ratio                   98.69%\n",
       "Issue rate                       1.1500%\n",
       "Market rate                      1.5847%\n",
       "Duration                            3.08"
      ]
     },
     "execution_count": 13,
     "metadata": {},
     "output_type": "execute_result"
    }
   ],
   "source": [
    "natuco.des()"
   ]
  },
  {
   "cell_type": "code",
   "execution_count": 14,
   "metadata": {},
   "outputs": [],
   "source": [
    "cf_natuco = natuco.cashflow()"
   ]
  },
  {
   "cell_type": "code",
   "execution_count": 15,
   "metadata": {},
   "outputs": [
    {
     "data": {
      "text/html": [
       "<div>\n",
       "<style scoped>\n",
       "    .dataframe tbody tr th:only-of-type {\n",
       "        vertical-align: middle;\n",
       "    }\n",
       "\n",
       "    .dataframe tbody tr th {\n",
       "        vertical-align: top;\n",
       "    }\n",
       "\n",
       "    .dataframe thead th {\n",
       "        text-align: right;\n",
       "    }\n",
       "</style>\n",
       "<table border=\"1\" class=\"dataframe\">\n",
       "  <thead>\n",
       "    <tr style=\"text-align: right;\">\n",
       "      <th></th>\n",
       "      <th>Date</th>\n",
       "      <th>Days</th>\n",
       "      <th>DI</th>\n",
       "      <th>VNA</th>\n",
       "      <th>Interests</th>\n",
       "      <th>Redemptions</th>\n",
       "      <th>Payments</th>\n",
       "      <th>PV of Cash Flows</th>\n",
       "    </tr>\n",
       "  </thead>\n",
       "  <tbody>\n",
       "    <tr>\n",
       "      <th>0</th>\n",
       "      <td>2021-08-26</td>\n",
       "      <td>112</td>\n",
       "      <td>3.749985</td>\n",
       "      <td>10000.0</td>\n",
       "      <td>233.939587</td>\n",
       "      <td>0.0</td>\n",
       "      <td>233.939587</td>\n",
       "      <td>228.540472</td>\n",
       "    </tr>\n",
       "    <tr>\n",
       "      <th>1</th>\n",
       "      <td>2022-03-02</td>\n",
       "      <td>240</td>\n",
       "      <td>4.920000</td>\n",
       "      <td>10000.0</td>\n",
       "      <td>358.135522</td>\n",
       "      <td>0.0</td>\n",
       "      <td>358.135522</td>\n",
       "      <td>337.038275</td>\n",
       "    </tr>\n",
       "    <tr>\n",
       "      <th>2</th>\n",
       "      <td>2022-08-26</td>\n",
       "      <td>364</td>\n",
       "      <td>5.758145</td>\n",
       "      <td>10000.0</td>\n",
       "      <td>415.939988</td>\n",
       "      <td>0.0</td>\n",
       "      <td>415.939988</td>\n",
       "      <td>375.014106</td>\n",
       "    </tr>\n",
       "    <tr>\n",
       "      <th>3</th>\n",
       "      <td>2023-02-27</td>\n",
       "      <td>489</td>\n",
       "      <td>6.353029</td>\n",
       "      <td>10000.0</td>\n",
       "      <td>453.235690</td>\n",
       "      <td>0.0</td>\n",
       "      <td>453.235690</td>\n",
       "      <td>390.091484</td>\n",
       "    </tr>\n",
       "    <tr>\n",
       "      <th>4</th>\n",
       "      <td>2023-08-28</td>\n",
       "      <td>615</td>\n",
       "      <td>6.805416</td>\n",
       "      <td>10000.0</td>\n",
       "      <td>479.888895</td>\n",
       "      <td>0.0</td>\n",
       "      <td>479.888895</td>\n",
       "      <td>393.273953</td>\n",
       "    </tr>\n",
       "    <tr>\n",
       "      <th>5</th>\n",
       "      <td>2024-02-26</td>\n",
       "      <td>737</td>\n",
       "      <td>7.088156</td>\n",
       "      <td>10000.0</td>\n",
       "      <td>461.761641</td>\n",
       "      <td>0.0</td>\n",
       "      <td>461.761641</td>\n",
       "      <td>360.965645</td>\n",
       "    </tr>\n",
       "    <tr>\n",
       "      <th>6</th>\n",
       "      <td>2024-08-26</td>\n",
       "      <td>864</td>\n",
       "      <td>7.316644</td>\n",
       "      <td>10000.0</td>\n",
       "      <td>487.332268</td>\n",
       "      <td>10000.0</td>\n",
       "      <td>10487.332268</td>\n",
       "      <td>7800.266101</td>\n",
       "    </tr>\n",
       "  </tbody>\n",
       "</table>\n",
       "</div>"
      ],
      "text/plain": [
       "         Date  Days        DI      VNA   Interests  Redemptions      Payments  \\\n",
       "0  2021-08-26   112  3.749985  10000.0  233.939587          0.0    233.939587   \n",
       "1  2022-03-02   240  4.920000  10000.0  358.135522          0.0    358.135522   \n",
       "2  2022-08-26   364  5.758145  10000.0  415.939988          0.0    415.939988   \n",
       "3  2023-02-27   489  6.353029  10000.0  453.235690          0.0    453.235690   \n",
       "4  2023-08-28   615  6.805416  10000.0  479.888895          0.0    479.888895   \n",
       "5  2024-02-26   737  7.088156  10000.0  461.761641          0.0    461.761641   \n",
       "6  2024-08-26   864  7.316644  10000.0  487.332268      10000.0  10487.332268   \n",
       "\n",
       "   PV of Cash Flows  \n",
       "0        228.540472  \n",
       "1        337.038275  \n",
       "2        375.014106  \n",
       "3        390.091484  \n",
       "4        393.273953  \n",
       "5        360.965645  \n",
       "6       7800.266101  "
      ]
     },
     "execution_count": 15,
     "metadata": {},
     "output_type": "execute_result"
    }
   ],
   "source": [
    "cf_natuco.head(10)"
   ]
  },
  {
   "cell_type": "code",
   "execution_count": 16,
   "metadata": {},
   "outputs": [
    {
     "data": {
      "text/plain": [
       "'9885.190036'"
      ]
     },
     "execution_count": 16,
     "metadata": {},
     "output_type": "execute_result"
    }
   ],
   "source": [
    "natuco.get(\"price\")"
   ]
  },
  {
   "cell_type": "markdown",
   "metadata": {},
   "source": [
    "## Debêntures Percentual DI\n",
    "\n",
    "Um exemplo de uma debênture remunerada por percentual do DI."
   ]
  },
  {
   "cell_type": "markdown",
   "metadata": {},
   "source": [
    "### BR Malls\n",
    "\n",
    "- Código: **BRML17**\n",
    "- Série 1\n",
    "- 7ª Emissão\n",
    "- ISIN: **BRBRMLDBS076**\n",
    "- ANBIMA: https://data.anbima.com.br/debentures/emissores/06977745000191/emissoes/7/series/BRML17/caracteristicas"
   ]
  },
  {
   "cell_type": "code",
   "execution_count": 17,
   "metadata": {},
   "outputs": [],
   "source": [
    "DATA_brm = DATA_REF\n",
    "VNE_brm = 10000\n",
    "VNA_brm = 10000\n",
    "PU_brm = 10004.015200\n",
    "TAXA_brm = 124.9368\n",
    "FREQ_brm = 2"
   ]
  },
  {
   "cell_type": "code",
   "execution_count": 18,
   "metadata": {},
   "outputs": [],
   "source": [
    "cal_brm = {\"2025-03-11\": 1}"
   ]
  },
  {
   "cell_type": "markdown",
   "metadata": {},
   "source": [
    "No caso das debêntures remuneradas pelo depósito interbancário (DI) é necessário estimar as taxas para as datas de pagamento do cupom. A função permite duas opções: 1) a importação de um arquivo csv/txt (`yield_curve_file`) que contém os vértices e taxas do DI, onde a expectativa de juros é obtida a partir da interpolação cúbica dos dados - **Cubic Spline**. 2) input manual, como no exemplo abaixo, no qual os vértices com suas respectivas taxas são definidas pelo o usuário usando os parâmetors `vertices` e `exp_rate`."
   ]
  },
  {
   "cell_type": "code",
   "execution_count": 19,
   "metadata": {},
   "outputs": [],
   "source": [
    "vertices = [123, 247, 374, 499, 624, 747, 876, 1000]"
   ]
  },
  {
   "cell_type": "code",
   "execution_count": 20,
   "metadata": {},
   "outputs": [],
   "source": [
    "rates = [4.020, 5.190, 6.190, 6.890, 7.490, 7.840, 8.120, 8.340]"
   ]
  },
  {
   "cell_type": "code",
   "execution_count": 21,
   "metadata": {},
   "outputs": [],
   "source": [
    "brm = DebentureDI(date=DATA_brm, maturity=\"2025-03-11\", vne=VNE_brm, vna=VNA_brm, pu=PU_brm,\n",
    "                  issue_rate=107.5000, market_rate=TAXA_brm, freq=FREQ_brm, redemption=cal_brm,\n",
    "                  vertices=vertices, exp_rates=rates)"
   ]
  },
  {
   "cell_type": "code",
   "execution_count": 22,
   "metadata": {},
   "outputs": [
    {
     "data": {
      "text/html": [
       "<div>\n",
       "<style scoped>\n",
       "    .dataframe tbody tr th:only-of-type {\n",
       "        vertical-align: middle;\n",
       "    }\n",
       "\n",
       "    .dataframe tbody tr th {\n",
       "        vertical-align: top;\n",
       "    }\n",
       "\n",
       "    .dataframe thead th {\n",
       "        text-align: right;\n",
       "    }\n",
       "</style>\n",
       "<table border=\"1\" class=\"dataframe\">\n",
       "  <thead>\n",
       "    <tr style=\"text-align: right;\">\n",
       "      <th></th>\n",
       "      <th>Debenture DI</th>\n",
       "    </tr>\n",
       "  </thead>\n",
       "  <tbody>\n",
       "    <tr>\n",
       "      <th>Convention</th>\n",
       "      <td>Percent DI</td>\n",
       "    </tr>\n",
       "    <tr>\n",
       "      <th>Frequency</th>\n",
       "      <td>Semi-annual</td>\n",
       "    </tr>\n",
       "    <tr>\n",
       "      <th>Date</th>\n",
       "      <td>2021-03-18</td>\n",
       "    </tr>\n",
       "    <tr>\n",
       "      <th>Maturity</th>\n",
       "      <td>2025-03-11</td>\n",
       "    </tr>\n",
       "    <tr>\n",
       "      <th>Last payment date</th>\n",
       "      <td>2021-03-11</td>\n",
       "    </tr>\n",
       "    <tr>\n",
       "      <th>Next payment date</th>\n",
       "      <td>2021-09-13</td>\n",
       "    </tr>\n",
       "    <tr>\n",
       "      <th>Days to next payment</th>\n",
       "      <td>123</td>\n",
       "    </tr>\n",
       "    <tr>\n",
       "      <th>Remaining payments</th>\n",
       "      <td>8</td>\n",
       "    </tr>\n",
       "    <tr>\n",
       "      <th>Term to maturity</th>\n",
       "      <td>3.97</td>\n",
       "    </tr>\n",
       "    <tr>\n",
       "      <th>VNE</th>\n",
       "      <td>10000.000000</td>\n",
       "    </tr>\n",
       "    <tr>\n",
       "      <th>VNA</th>\n",
       "      <td>10000.000000</td>\n",
       "    </tr>\n",
       "    <tr>\n",
       "      <th>PU Par</th>\n",
       "      <td>10004.015200</td>\n",
       "    </tr>\n",
       "    <tr>\n",
       "      <th>Price</th>\n",
       "      <td>9534.123715</td>\n",
       "    </tr>\n",
       "    <tr>\n",
       "      <th>Price/Par ratio</th>\n",
       "      <td>95.30%</td>\n",
       "    </tr>\n",
       "    <tr>\n",
       "      <th>Issue rate</th>\n",
       "      <td>107.5000%</td>\n",
       "    </tr>\n",
       "    <tr>\n",
       "      <th>Market rate</th>\n",
       "      <td>124.9368%</td>\n",
       "    </tr>\n",
       "    <tr>\n",
       "      <th>Duration</th>\n",
       "      <td>3.49</td>\n",
       "    </tr>\n",
       "  </tbody>\n",
       "</table>\n",
       "</div>"
      ],
      "text/plain": [
       "                      Debenture DI\n",
       "Convention              Percent DI\n",
       "Frequency              Semi-annual\n",
       "Date                    2021-03-18\n",
       "Maturity                2025-03-11\n",
       "Last payment date       2021-03-11\n",
       "Next payment date       2021-09-13\n",
       "Days to next payment           123\n",
       "Remaining payments               8\n",
       "Term to maturity              3.97\n",
       "VNE                   10000.000000\n",
       "VNA                   10000.000000\n",
       "PU Par                10004.015200\n",
       "Price                  9534.123715\n",
       "Price/Par ratio             95.30%\n",
       "Issue rate               107.5000%\n",
       "Market rate              124.9368%\n",
       "Duration                      3.49"
      ]
     },
     "execution_count": 22,
     "metadata": {},
     "output_type": "execute_result"
    }
   ],
   "source": [
    "brm.des()"
   ]
  },
  {
   "cell_type": "code",
   "execution_count": 23,
   "metadata": {},
   "outputs": [],
   "source": [
    "cf_brm = brm.cashflow()"
   ]
  },
  {
   "cell_type": "code",
   "execution_count": 24,
   "metadata": {},
   "outputs": [
    {
     "data": {
      "text/html": [
       "<div>\n",
       "<style scoped>\n",
       "    .dataframe tbody tr th:only-of-type {\n",
       "        vertical-align: middle;\n",
       "    }\n",
       "\n",
       "    .dataframe tbody tr th {\n",
       "        vertical-align: top;\n",
       "    }\n",
       "\n",
       "    .dataframe thead th {\n",
       "        text-align: right;\n",
       "    }\n",
       "</style>\n",
       "<table border=\"1\" class=\"dataframe\">\n",
       "  <thead>\n",
       "    <tr style=\"text-align: right;\">\n",
       "      <th></th>\n",
       "      <th>Date</th>\n",
       "      <th>Days</th>\n",
       "      <th>DI</th>\n",
       "      <th>Interests</th>\n",
       "      <th>Redemptions</th>\n",
       "      <th>Payments</th>\n",
       "      <th>PV of Cash Flow</th>\n",
       "    </tr>\n",
       "  </thead>\n",
       "  <tbody>\n",
       "    <tr>\n",
       "      <th>0</th>\n",
       "      <td>2021-09-13</td>\n",
       "      <td>123</td>\n",
       "      <td>4.02</td>\n",
       "      <td>210.669447</td>\n",
       "      <td>0.0</td>\n",
       "      <td>210.669447</td>\n",
       "      <td>205.666578</td>\n",
       "    </tr>\n",
       "    <tr>\n",
       "      <th>1</th>\n",
       "      <td>2022-03-11</td>\n",
       "      <td>247</td>\n",
       "      <td>5.19</td>\n",
       "      <td>331.716120</td>\n",
       "      <td>0.0</td>\n",
       "      <td>331.716120</td>\n",
       "      <td>311.786851</td>\n",
       "    </tr>\n",
       "    <tr>\n",
       "      <th>2</th>\n",
       "      <td>2022-09-12</td>\n",
       "      <td>374</td>\n",
       "      <td>6.19</td>\n",
       "      <td>434.237680</td>\n",
       "      <td>0.0</td>\n",
       "      <td>434.237680</td>\n",
       "      <td>388.475963</td>\n",
       "    </tr>\n",
       "    <tr>\n",
       "      <th>3</th>\n",
       "      <td>2023-03-13</td>\n",
       "      <td>499</td>\n",
       "      <td>6.89</td>\n",
       "      <td>470.863704</td>\n",
       "      <td>0.0</td>\n",
       "      <td>470.863704</td>\n",
       "      <td>399.308707</td>\n",
       "    </tr>\n",
       "    <tr>\n",
       "      <th>4</th>\n",
       "      <td>2023-09-11</td>\n",
       "      <td>624</td>\n",
       "      <td>7.49</td>\n",
       "      <td>517.221077</td>\n",
       "      <td>0.0</td>\n",
       "      <td>517.221077</td>\n",
       "      <td>413.653923</td>\n",
       "    </tr>\n",
       "    <tr>\n",
       "      <th>5</th>\n",
       "      <td>2024-03-11</td>\n",
       "      <td>747</td>\n",
       "      <td>7.84</td>\n",
       "      <td>494.397871</td>\n",
       "      <td>0.0</td>\n",
       "      <td>494.397871</td>\n",
       "      <td>373.836220</td>\n",
       "    </tr>\n",
       "    <tr>\n",
       "      <th>6</th>\n",
       "      <td>2024-09-11</td>\n",
       "      <td>876</td>\n",
       "      <td>8.12</td>\n",
       "      <td>525.596938</td>\n",
       "      <td>0.0</td>\n",
       "      <td>525.596938</td>\n",
       "      <td>374.458074</td>\n",
       "    </tr>\n",
       "    <tr>\n",
       "      <th>7</th>\n",
       "      <td>2025-03-11</td>\n",
       "      <td>1000</td>\n",
       "      <td>8.34</td>\n",
       "      <td>512.374118</td>\n",
       "      <td>10000.0</td>\n",
       "      <td>10512.374118</td>\n",
       "      <td>7066.937399</td>\n",
       "    </tr>\n",
       "  </tbody>\n",
       "</table>\n",
       "</div>"
      ],
      "text/plain": [
       "         Date  Days    DI   Interests  Redemptions      Payments  \\\n",
       "0  2021-09-13   123  4.02  210.669447          0.0    210.669447   \n",
       "1  2022-03-11   247  5.19  331.716120          0.0    331.716120   \n",
       "2  2022-09-12   374  6.19  434.237680          0.0    434.237680   \n",
       "3  2023-03-13   499  6.89  470.863704          0.0    470.863704   \n",
       "4  2023-09-11   624  7.49  517.221077          0.0    517.221077   \n",
       "5  2024-03-11   747  7.84  494.397871          0.0    494.397871   \n",
       "6  2024-09-11   876  8.12  525.596938          0.0    525.596938   \n",
       "7  2025-03-11  1000  8.34  512.374118      10000.0  10512.374118   \n",
       "\n",
       "   PV of Cash Flow  \n",
       "0       205.666578  \n",
       "1       311.786851  \n",
       "2       388.475963  \n",
       "3       399.308707  \n",
       "4       413.653923  \n",
       "5       373.836220  \n",
       "6       374.458074  \n",
       "7      7066.937399  "
      ]
     },
     "execution_count": 24,
     "metadata": {},
     "output_type": "execute_result"
    }
   ],
   "source": [
    "cf_brm.head(10)"
   ]
  },
  {
   "cell_type": "code",
   "execution_count": 25,
   "metadata": {},
   "outputs": [
    {
     "data": {
      "text/plain": [
       "'9534.123715'"
      ]
     },
     "execution_count": 25,
     "metadata": {},
     "output_type": "execute_result"
    }
   ],
   "source": [
    "brm.get(\"price\")"
   ]
  },
  {
   "cell_type": "markdown",
   "metadata": {},
   "source": [
    "## Debêntures IPCA Spread"
   ]
  },
  {
   "cell_type": "markdown",
   "metadata": {},
   "source": [
    "### Equatorial Energia Pará - Celpa"
   ]
  },
  {
   "cell_type": "markdown",
   "metadata": {},
   "source": [
    "- Código: **CLPP13**\n",
    "- Série 1\n",
    "- 3ª Emissão\n",
    "- ISIN: **BRCELPDBS018**\n",
    "- ANBIMA: https://data.anbima.com.br/debentures/emissores/04895728000180/emissoes/3/series/CLPP13/caracteristicas"
   ]
  },
  {
   "cell_type": "markdown",
   "metadata": {},
   "source": [
    "Preencha os dados do título:\n",
    "- ***DATA***: Data de referência para o cálculo do preço do ativo.\n",
    "- ***VNE***: Valor Nominal de Emissão.\n",
    "- ***VNA***: Valor Nominal Atualizado na data de referência.\n",
    "- ***PU***: Preço Unitário do título ao Par (marcado na curva).\n",
    "- ***TAXA***: Taxa indicativa (taxa de mercado) da ANBIMA.\n",
    "- ***FREQ***: Frequência de pagamentos (1: Anual, 2: Semestral, 3: Trimestral, etc)."
   ]
  },
  {
   "cell_type": "code",
   "execution_count": 26,
   "metadata": {},
   "outputs": [],
   "source": [
    "DATA_clpp = DATA_REF\n",
    "VNE_clpp = 1000\n",
    "VNA_clpp = 1181.115910\n",
    "PU_clpp = 1200.412954\n",
    "TAXA_clpp = 0.4221\n",
    "FREQ_clpp = 1"
   ]
  },
  {
   "cell_type": "markdown",
   "metadata": {},
   "source": [
    "**( ! )** Informe o calendário de amortizações como **percentual do valor nominal atualizado - VNA** (1 pra 100%, 0.50 para 50%, 0,33 para 33,33%, etc.)"
   ]
  },
  {
   "cell_type": "code",
   "execution_count": 27,
   "metadata": {},
   "outputs": [],
   "source": [
    "cal_celpa = {\"2021-12-15\": 1}"
   ]
  },
  {
   "cell_type": "code",
   "execution_count": 28,
   "metadata": {},
   "outputs": [],
   "source": [
    "celpa = DebentureIPCA(date=DATA_clpp, maturity=\"2021-12-15\", vne=VNE_clpp, vna=VNA_clpp, pu=PU_clpp,\n",
    "                      issue_rate=6.6971, market_rate=TAXA_clpp, freq=FREQ_clpp, redemption=cal_celpa)"
   ]
  },
  {
   "cell_type": "code",
   "execution_count": 29,
   "metadata": {},
   "outputs": [
    {
     "data": {
      "text/html": [
       "<div>\n",
       "<style scoped>\n",
       "    .dataframe tbody tr th:only-of-type {\n",
       "        vertical-align: middle;\n",
       "    }\n",
       "\n",
       "    .dataframe tbody tr th {\n",
       "        vertical-align: top;\n",
       "    }\n",
       "\n",
       "    .dataframe thead th {\n",
       "        text-align: right;\n",
       "    }\n",
       "</style>\n",
       "<table border=\"1\" class=\"dataframe\">\n",
       "  <thead>\n",
       "    <tr style=\"text-align: right;\">\n",
       "      <th></th>\n",
       "      <th>Debenture IPCA Spread</th>\n",
       "    </tr>\n",
       "  </thead>\n",
       "  <tbody>\n",
       "    <tr>\n",
       "      <th>Convention</th>\n",
       "      <td>IPCA Spread</td>\n",
       "    </tr>\n",
       "    <tr>\n",
       "      <th>Frequency</th>\n",
       "      <td>Annual</td>\n",
       "    </tr>\n",
       "    <tr>\n",
       "      <th>Date</th>\n",
       "      <td>2021-03-18</td>\n",
       "    </tr>\n",
       "    <tr>\n",
       "      <th>Maturity</th>\n",
       "      <td>2021-12-15</td>\n",
       "    </tr>\n",
       "    <tr>\n",
       "      <th>Last payment date</th>\n",
       "      <td>2020-12-15</td>\n",
       "    </tr>\n",
       "    <tr>\n",
       "      <th>Next payment date</th>\n",
       "      <td>2021-12-15</td>\n",
       "    </tr>\n",
       "    <tr>\n",
       "      <th>Days to next payment</th>\n",
       "      <td>187</td>\n",
       "    </tr>\n",
       "    <tr>\n",
       "      <th>Remaining payments</th>\n",
       "      <td>1</td>\n",
       "    </tr>\n",
       "    <tr>\n",
       "      <th>Term to maturity</th>\n",
       "      <td>0.74</td>\n",
       "    </tr>\n",
       "    <tr>\n",
       "      <th>VNE</th>\n",
       "      <td>1000.000000</td>\n",
       "    </tr>\n",
       "    <tr>\n",
       "      <th>VNA</th>\n",
       "      <td>1181.115910</td>\n",
       "    </tr>\n",
       "    <tr>\n",
       "      <th>PU Par</th>\n",
       "      <td>1200.412954</td>\n",
       "    </tr>\n",
       "    <tr>\n",
       "      <th>Price</th>\n",
       "      <td>1255.637408</td>\n",
       "    </tr>\n",
       "    <tr>\n",
       "      <th>Price/Par ratio</th>\n",
       "      <td>104.60%</td>\n",
       "    </tr>\n",
       "    <tr>\n",
       "      <th>Issue rate</th>\n",
       "      <td>6.6971%</td>\n",
       "    </tr>\n",
       "    <tr>\n",
       "      <th>Market rate</th>\n",
       "      <td>0.4221%</td>\n",
       "    </tr>\n",
       "    <tr>\n",
       "      <th>Duration</th>\n",
       "      <td>0.74</td>\n",
       "    </tr>\n",
       "  </tbody>\n",
       "</table>\n",
       "</div>"
      ],
      "text/plain": [
       "                     Debenture IPCA Spread\n",
       "Convention                     IPCA Spread\n",
       "Frequency                           Annual\n",
       "Date                            2021-03-18\n",
       "Maturity                        2021-12-15\n",
       "Last payment date               2020-12-15\n",
       "Next payment date               2021-12-15\n",
       "Days to next payment                   187\n",
       "Remaining payments                       1\n",
       "Term to maturity                      0.74\n",
       "VNE                            1000.000000\n",
       "VNA                            1181.115910\n",
       "PU Par                         1200.412954\n",
       "Price                          1255.637408\n",
       "Price/Par ratio                    104.60%\n",
       "Issue rate                         6.6971%\n",
       "Market rate                        0.4221%\n",
       "Duration                              0.74"
      ]
     },
     "execution_count": 29,
     "metadata": {},
     "output_type": "execute_result"
    }
   ],
   "source": [
    "celpa.des()"
   ]
  },
  {
   "cell_type": "code",
   "execution_count": 30,
   "metadata": {},
   "outputs": [],
   "source": [
    "cf_celpa = celpa.cashflow()"
   ]
  },
  {
   "cell_type": "code",
   "execution_count": 31,
   "metadata": {},
   "outputs": [
    {
     "data": {
      "text/html": [
       "<div>\n",
       "<style scoped>\n",
       "    .dataframe tbody tr th:only-of-type {\n",
       "        vertical-align: middle;\n",
       "    }\n",
       "\n",
       "    .dataframe tbody tr th {\n",
       "        vertical-align: top;\n",
       "    }\n",
       "\n",
       "    .dataframe thead th {\n",
       "        text-align: right;\n",
       "    }\n",
       "</style>\n",
       "<table border=\"1\" class=\"dataframe\">\n",
       "  <thead>\n",
       "    <tr style=\"text-align: right;\">\n",
       "      <th></th>\n",
       "      <th>Date</th>\n",
       "      <th>Days</th>\n",
       "      <th>Interests</th>\n",
       "      <th>Redemptions</th>\n",
       "      <th>Payments</th>\n",
       "      <th>PV of Cash Flows</th>\n",
       "    </tr>\n",
       "  </thead>\n",
       "  <tbody>\n",
       "    <tr>\n",
       "      <th>0</th>\n",
       "      <td>2021-12-15</td>\n",
       "      <td>187</td>\n",
       "      <td>78.452331</td>\n",
       "      <td>1181.11591</td>\n",
       "      <td>1259.568241</td>\n",
       "      <td>1255.637408</td>\n",
       "    </tr>\n",
       "  </tbody>\n",
       "</table>\n",
       "</div>"
      ],
      "text/plain": [
       "         Date  Days  Interests  Redemptions     Payments  PV of Cash Flows\n",
       "0  2021-12-15   187  78.452331   1181.11591  1259.568241       1255.637408"
      ]
     },
     "execution_count": 31,
     "metadata": {},
     "output_type": "execute_result"
    }
   ],
   "source": [
    "cf_celpa.head()"
   ]
  },
  {
   "cell_type": "code",
   "execution_count": 32,
   "metadata": {},
   "outputs": [
    {
     "data": {
      "text/plain": [
       "'1255.637408'"
      ]
     },
     "execution_count": 32,
     "metadata": {},
     "output_type": "execute_result"
    }
   ],
   "source": [
    "celpa.get(\"price\")"
   ]
  },
  {
   "cell_type": "markdown",
   "metadata": {
    "collapsed": true
   },
   "source": [
    "### Algar Telecom"
   ]
  },
  {
   "cell_type": "markdown",
   "metadata": {},
   "source": [
    "- Código: **ALGA26**\n",
    "- Série 2\n",
    "- 6ª Emissão\n",
    "- ISIN: **BRALGTDBS050**\n",
    "- ANBIMA: https://data.anbima.com.br/debentures/emissores/71208516000174/emissoes/6/series/ALGA26/caracteristicas"
   ]
  },
  {
   "cell_type": "code",
   "execution_count": 33,
   "metadata": {},
   "outputs": [],
   "source": [
    "DATA_alga = DATA_REF\n",
    "VNE_alga = 1000\n",
    "VNA_alga = 1167.191940\n",
    "PU_alga = 1168.115982\n",
    "TAXA_alga = 2.5468\n",
    "FREQ_alga = 1"
   ]
  },
  {
   "cell_type": "code",
   "execution_count": 34,
   "metadata": {},
   "outputs": [],
   "source": [
    "cal_alga = {\"2023-03-15\": 0.50, \"2024-03-15\": 1}"
   ]
  },
  {
   "cell_type": "code",
   "execution_count": 35,
   "metadata": {},
   "outputs": [],
   "source": [
    "alga = DebentureIPCA(date=DATA_alga, maturity=\"2024-03-15\", vne=VNE_alga, vna=VNA_alga, pu=PU_alga,\n",
    "                     issue_rate=6.8734, market_rate=TAXA_alga, freq=FREQ_alga, redemption=cal_alga)"
   ]
  },
  {
   "cell_type": "code",
   "execution_count": 36,
   "metadata": {},
   "outputs": [
    {
     "data": {
      "text/html": [
       "<div>\n",
       "<style scoped>\n",
       "    .dataframe tbody tr th:only-of-type {\n",
       "        vertical-align: middle;\n",
       "    }\n",
       "\n",
       "    .dataframe tbody tr th {\n",
       "        vertical-align: top;\n",
       "    }\n",
       "\n",
       "    .dataframe thead th {\n",
       "        text-align: right;\n",
       "    }\n",
       "</style>\n",
       "<table border=\"1\" class=\"dataframe\">\n",
       "  <thead>\n",
       "    <tr style=\"text-align: right;\">\n",
       "      <th></th>\n",
       "      <th>Debenture IPCA Spread</th>\n",
       "    </tr>\n",
       "  </thead>\n",
       "  <tbody>\n",
       "    <tr>\n",
       "      <th>Convention</th>\n",
       "      <td>IPCA Spread</td>\n",
       "    </tr>\n",
       "    <tr>\n",
       "      <th>Frequency</th>\n",
       "      <td>Annual</td>\n",
       "    </tr>\n",
       "    <tr>\n",
       "      <th>Date</th>\n",
       "      <td>2021-03-18</td>\n",
       "    </tr>\n",
       "    <tr>\n",
       "      <th>Maturity</th>\n",
       "      <td>2024-03-15</td>\n",
       "    </tr>\n",
       "    <tr>\n",
       "      <th>Last payment date</th>\n",
       "      <td>2021-03-15</td>\n",
       "    </tr>\n",
       "    <tr>\n",
       "      <th>Next payment date</th>\n",
       "      <td>2022-03-15</td>\n",
       "    </tr>\n",
       "    <tr>\n",
       "      <th>Days to next payment</th>\n",
       "      <td>249</td>\n",
       "    </tr>\n",
       "    <tr>\n",
       "      <th>Remaining payments</th>\n",
       "      <td>3</td>\n",
       "    </tr>\n",
       "    <tr>\n",
       "      <th>Term to maturity</th>\n",
       "      <td>2.98</td>\n",
       "    </tr>\n",
       "    <tr>\n",
       "      <th>VNE</th>\n",
       "      <td>1000.000000</td>\n",
       "    </tr>\n",
       "    <tr>\n",
       "      <th>VNA</th>\n",
       "      <td>1167.191940</td>\n",
       "    </tr>\n",
       "    <tr>\n",
       "      <th>PU Par</th>\n",
       "      <td>1168.115982</td>\n",
       "    </tr>\n",
       "    <tr>\n",
       "      <th>Price</th>\n",
       "      <td>1288.070821</td>\n",
       "    </tr>\n",
       "    <tr>\n",
       "      <th>Price/Par ratio</th>\n",
       "      <td>110.27%</td>\n",
       "    </tr>\n",
       "    <tr>\n",
       "      <th>Issue rate</th>\n",
       "      <td>6.8734%</td>\n",
       "    </tr>\n",
       "    <tr>\n",
       "      <th>Market rate</th>\n",
       "      <td>2.5468%</td>\n",
       "    </tr>\n",
       "    <tr>\n",
       "      <th>Duration</th>\n",
       "      <td>2.37</td>\n",
       "    </tr>\n",
       "  </tbody>\n",
       "</table>\n",
       "</div>"
      ],
      "text/plain": [
       "                     Debenture IPCA Spread\n",
       "Convention                     IPCA Spread\n",
       "Frequency                           Annual\n",
       "Date                            2021-03-18\n",
       "Maturity                        2024-03-15\n",
       "Last payment date               2021-03-15\n",
       "Next payment date               2022-03-15\n",
       "Days to next payment                   249\n",
       "Remaining payments                       3\n",
       "Term to maturity                      2.98\n",
       "VNE                            1000.000000\n",
       "VNA                            1167.191940\n",
       "PU Par                         1168.115982\n",
       "Price                          1288.070821\n",
       "Price/Par ratio                    110.27%\n",
       "Issue rate                         6.8734%\n",
       "Market rate                        2.5468%\n",
       "Duration                              2.37"
      ]
     },
     "execution_count": 36,
     "metadata": {},
     "output_type": "execute_result"
    }
   ],
   "source": [
    "alga.des()"
   ]
  },
  {
   "cell_type": "code",
   "execution_count": 37,
   "metadata": {},
   "outputs": [],
   "source": [
    "cf_alga = alga.cashflow()"
   ]
  },
  {
   "cell_type": "code",
   "execution_count": 38,
   "metadata": {},
   "outputs": [
    {
     "data": {
      "text/html": [
       "<div>\n",
       "<style scoped>\n",
       "    .dataframe tbody tr th:only-of-type {\n",
       "        vertical-align: middle;\n",
       "    }\n",
       "\n",
       "    .dataframe tbody tr th {\n",
       "        vertical-align: top;\n",
       "    }\n",
       "\n",
       "    .dataframe thead th {\n",
       "        text-align: right;\n",
       "    }\n",
       "</style>\n",
       "<table border=\"1\" class=\"dataframe\">\n",
       "  <thead>\n",
       "    <tr style=\"text-align: right;\">\n",
       "      <th></th>\n",
       "      <th>Date</th>\n",
       "      <th>Days</th>\n",
       "      <th>Interests</th>\n",
       "      <th>Redemptions</th>\n",
       "      <th>Payments</th>\n",
       "      <th>PV of Cash Flows</th>\n",
       "    </tr>\n",
       "  </thead>\n",
       "  <tbody>\n",
       "    <tr>\n",
       "      <th>0</th>\n",
       "      <td>2022-03-15</td>\n",
       "      <td>249</td>\n",
       "      <td>80.225771</td>\n",
       "      <td>0.00000</td>\n",
       "      <td>80.225771</td>\n",
       "      <td>78.256751</td>\n",
       "    </tr>\n",
       "    <tr>\n",
       "      <th>1</th>\n",
       "      <td>2023-03-15</td>\n",
       "      <td>501</td>\n",
       "      <td>80.225771</td>\n",
       "      <td>583.59597</td>\n",
       "      <td>663.821741</td>\n",
       "      <td>631.447534</td>\n",
       "    </tr>\n",
       "    <tr>\n",
       "      <th>2</th>\n",
       "      <td>2024-03-15</td>\n",
       "      <td>751</td>\n",
       "      <td>39.783917</td>\n",
       "      <td>583.59597</td>\n",
       "      <td>623.379887</td>\n",
       "      <td>578.366536</td>\n",
       "    </tr>\n",
       "  </tbody>\n",
       "</table>\n",
       "</div>"
      ],
      "text/plain": [
       "         Date  Days  Interests  Redemptions    Payments  PV of Cash Flows\n",
       "0  2022-03-15   249  80.225771      0.00000   80.225771         78.256751\n",
       "1  2023-03-15   501  80.225771    583.59597  663.821741        631.447534\n",
       "2  2024-03-15   751  39.783917    583.59597  623.379887        578.366536"
      ]
     },
     "execution_count": 38,
     "metadata": {},
     "output_type": "execute_result"
    }
   ],
   "source": [
    "cf_alga.head()"
   ]
  },
  {
   "cell_type": "code",
   "execution_count": 39,
   "metadata": {},
   "outputs": [
    {
     "data": {
      "text/plain": [
       "'1288.070821'"
      ]
     },
     "execution_count": 39,
     "metadata": {},
     "output_type": "execute_result"
    }
   ],
   "source": [
    "alga.get(\"price\")"
   ]
  },
  {
   "cell_type": "markdown",
   "metadata": {},
   "source": [
    "### Ecovias"
   ]
  },
  {
   "cell_type": "markdown",
   "metadata": {},
   "source": [
    "- Código: **ECOV22**\n",
    "- Série 2\n",
    "- 2ª Emissão \n",
    "- ISIN: **BRECOVDBS044**\n",
    "- ANBIMA: https://data.anbima.com.br/debentures/emissores/02509491000126/emissoes/2/series/ECOV22/caracteristicas"
   ]
  },
  {
   "cell_type": "code",
   "execution_count": 40,
   "metadata": {},
   "outputs": [],
   "source": [
    "DATA_ecov = DATA_REF\n",
    "VNE_ecov = 1000\n",
    "VNA_ecov = 1532.817280\n",
    "PU_ecov = 1592.849187\n",
    "TAXA_ecov = 2.5695\n",
    "FREQ_ecov = 1"
   ]
  },
  {
   "cell_type": "markdown",
   "metadata": {},
   "source": [
    "**( ! )** O tipo de pagamento ***fixed*** significa que as amortizações são frações fixas do VNA. Ex: No caso de 3 pagamentos cada um corresponde a 1/3 do VNA. Por default o parâmetro `payment` é ***adjust***."
   ]
  },
  {
   "cell_type": "code",
   "execution_count": 41,
   "metadata": {},
   "outputs": [],
   "source": [
    "tipo_pagamento = \"fixed\""
   ]
  },
  {
   "cell_type": "code",
   "execution_count": 42,
   "metadata": {},
   "outputs": [],
   "source": [
    "cal_ecov = {\"2022-04-18\": 0.3333, \"2023-04-17\": 0.3333, \"2024-04-15\": 0.3334}"
   ]
  },
  {
   "cell_type": "code",
   "execution_count": 43,
   "metadata": {},
   "outputs": [],
   "source": [
    "ecov = DebentureIPCA(date=DATA_ecov, maturity=\"2024-04-15\", vne=VNE_ecov, vna=VNA_ecov, pu=PU_ecov,\n",
    "                     issue_rate=4.2800, market_rate=TAXA_ecov, freq=FREQ_ecov, redemption=cal_ecov, payment=\"fixed\")"
   ]
  },
  {
   "cell_type": "code",
   "execution_count": 44,
   "metadata": {},
   "outputs": [
    {
     "data": {
      "text/html": [
       "<div>\n",
       "<style scoped>\n",
       "    .dataframe tbody tr th:only-of-type {\n",
       "        vertical-align: middle;\n",
       "    }\n",
       "\n",
       "    .dataframe tbody tr th {\n",
       "        vertical-align: top;\n",
       "    }\n",
       "\n",
       "    .dataframe thead th {\n",
       "        text-align: right;\n",
       "    }\n",
       "</style>\n",
       "<table border=\"1\" class=\"dataframe\">\n",
       "  <thead>\n",
       "    <tr style=\"text-align: right;\">\n",
       "      <th></th>\n",
       "      <th>Debenture IPCA Spread</th>\n",
       "    </tr>\n",
       "  </thead>\n",
       "  <tbody>\n",
       "    <tr>\n",
       "      <th>Convention</th>\n",
       "      <td>IPCA Spread</td>\n",
       "    </tr>\n",
       "    <tr>\n",
       "      <th>Frequency</th>\n",
       "      <td>Annual</td>\n",
       "    </tr>\n",
       "    <tr>\n",
       "      <th>Date</th>\n",
       "      <td>2021-03-18</td>\n",
       "    </tr>\n",
       "    <tr>\n",
       "      <th>Maturity</th>\n",
       "      <td>2024-04-15</td>\n",
       "    </tr>\n",
       "    <tr>\n",
       "      <th>Last payment date</th>\n",
       "      <td>2020-04-15</td>\n",
       "    </tr>\n",
       "    <tr>\n",
       "      <th>Next payment date</th>\n",
       "      <td>2021-04-15</td>\n",
       "    </tr>\n",
       "    <tr>\n",
       "      <th>Days to next payment</th>\n",
       "      <td>19</td>\n",
       "    </tr>\n",
       "    <tr>\n",
       "      <th>Remaining payments</th>\n",
       "      <td>4</td>\n",
       "    </tr>\n",
       "    <tr>\n",
       "      <th>Term to maturity</th>\n",
       "      <td>3.06</td>\n",
       "    </tr>\n",
       "    <tr>\n",
       "      <th>VNE</th>\n",
       "      <td>1000.000000</td>\n",
       "    </tr>\n",
       "    <tr>\n",
       "      <th>VNA</th>\n",
       "      <td>1532.817280</td>\n",
       "    </tr>\n",
       "    <tr>\n",
       "      <th>PU Par</th>\n",
       "      <td>1592.849187</td>\n",
       "    </tr>\n",
       "    <tr>\n",
       "      <th>Price</th>\n",
       "      <td>1644.923320</td>\n",
       "    </tr>\n",
       "    <tr>\n",
       "      <th>Price/Par ratio</th>\n",
       "      <td>103.27%</td>\n",
       "    </tr>\n",
       "    <tr>\n",
       "      <th>Issue rate</th>\n",
       "      <td>4.2800%</td>\n",
       "    </tr>\n",
       "    <tr>\n",
       "      <th>Market rate</th>\n",
       "      <td>2.5695%</td>\n",
       "    </tr>\n",
       "    <tr>\n",
       "      <th>Duration</th>\n",
       "      <td>1.95</td>\n",
       "    </tr>\n",
       "  </tbody>\n",
       "</table>\n",
       "</div>"
      ],
      "text/plain": [
       "                     Debenture IPCA Spread\n",
       "Convention                     IPCA Spread\n",
       "Frequency                           Annual\n",
       "Date                            2021-03-18\n",
       "Maturity                        2024-04-15\n",
       "Last payment date               2020-04-15\n",
       "Next payment date               2021-04-15\n",
       "Days to next payment                    19\n",
       "Remaining payments                       4\n",
       "Term to maturity                      3.06\n",
       "VNE                            1000.000000\n",
       "VNA                            1532.817280\n",
       "PU Par                         1592.849187\n",
       "Price                          1644.923320\n",
       "Price/Par ratio                    103.27%\n",
       "Issue rate                         4.2800%\n",
       "Market rate                        2.5695%\n",
       "Duration                              1.95"
      ]
     },
     "execution_count": 44,
     "metadata": {},
     "output_type": "execute_result"
    }
   ],
   "source": [
    "ecov.des()"
   ]
  },
  {
   "cell_type": "code",
   "execution_count": 45,
   "metadata": {},
   "outputs": [],
   "source": [
    "cf_ecov = ecov.cashflow()"
   ]
  },
  {
   "cell_type": "code",
   "execution_count": 46,
   "metadata": {},
   "outputs": [
    {
     "data": {
      "text/html": [
       "<div>\n",
       "<style scoped>\n",
       "    .dataframe tbody tr th:only-of-type {\n",
       "        vertical-align: middle;\n",
       "    }\n",
       "\n",
       "    .dataframe tbody tr th {\n",
       "        vertical-align: top;\n",
       "    }\n",
       "\n",
       "    .dataframe thead th {\n",
       "        text-align: right;\n",
       "    }\n",
       "</style>\n",
       "<table border=\"1\" class=\"dataframe\">\n",
       "  <thead>\n",
       "    <tr style=\"text-align: right;\">\n",
       "      <th></th>\n",
       "      <th>Date</th>\n",
       "      <th>Days</th>\n",
       "      <th>Interests</th>\n",
       "      <th>Redemptions</th>\n",
       "      <th>Payments</th>\n",
       "      <th>PV of Cash Flows</th>\n",
       "    </tr>\n",
       "  </thead>\n",
       "  <tbody>\n",
       "    <tr>\n",
       "      <th>0</th>\n",
       "      <td>2021-04-15</td>\n",
       "      <td>19</td>\n",
       "      <td>65.073009</td>\n",
       "      <td>0.000000</td>\n",
       "      <td>65.073009</td>\n",
       "      <td>64.948654</td>\n",
       "    </tr>\n",
       "    <tr>\n",
       "      <th>1</th>\n",
       "      <td>2022-04-18</td>\n",
       "      <td>272</td>\n",
       "      <td>65.870431</td>\n",
       "      <td>510.887999</td>\n",
       "      <td>576.758430</td>\n",
       "      <td>561.178791</td>\n",
       "    </tr>\n",
       "    <tr>\n",
       "      <th>2</th>\n",
       "      <td>2023-04-17</td>\n",
       "      <td>523</td>\n",
       "      <td>43.561360</td>\n",
       "      <td>510.887999</td>\n",
       "      <td>554.449359</td>\n",
       "      <td>526.010809</td>\n",
       "    </tr>\n",
       "    <tr>\n",
       "      <th>3</th>\n",
       "      <td>2024-04-15</td>\n",
       "      <td>771</td>\n",
       "      <td>21.518175</td>\n",
       "      <td>511.041281</td>\n",
       "      <td>532.559456</td>\n",
       "      <td>492.785066</td>\n",
       "    </tr>\n",
       "  </tbody>\n",
       "</table>\n",
       "</div>"
      ],
      "text/plain": [
       "         Date  Days  Interests  Redemptions    Payments  PV of Cash Flows\n",
       "0  2021-04-15    19  65.073009     0.000000   65.073009         64.948654\n",
       "1  2022-04-18   272  65.870431   510.887999  576.758430        561.178791\n",
       "2  2023-04-17   523  43.561360   510.887999  554.449359        526.010809\n",
       "3  2024-04-15   771  21.518175   511.041281  532.559456        492.785066"
      ]
     },
     "execution_count": 46,
     "metadata": {},
     "output_type": "execute_result"
    }
   ],
   "source": [
    "cf_ecov.head()"
   ]
  },
  {
   "cell_type": "code",
   "execution_count": 47,
   "metadata": {},
   "outputs": [
    {
     "data": {
      "text/plain": [
       "'1644.923320'"
      ]
     },
     "execution_count": 47,
     "metadata": {},
     "output_type": "execute_result"
    }
   ],
   "source": [
    "ecov.get(\"price\")"
   ]
  },
  {
   "cell_type": "markdown",
   "metadata": {},
   "source": [
    "### Ecorodovias"
   ]
  },
  {
   "cell_type": "markdown",
   "metadata": {},
   "source": [
    "- Código: **ERDV17**\n",
    "- Série 1\n",
    "- 7ª Emissão\n",
    "- ISIN: **BRERDVDBS0E8**\n",
    "- ANBIMA: https://data.anbima.com.br/debentures/emissores/08873873000110/emissoes/7/series/ERDV17/caracteristicas "
   ]
  },
  {
   "cell_type": "code",
   "execution_count": 48,
   "metadata": {},
   "outputs": [],
   "source": [
    "DATA_ecor = DATA_REF\n",
    "VNE_ecor = 1000\n",
    "VNA_ecor = 1121.243100\n",
    "PU_ecor = 1183.949760\n",
    "TAXA_ecor = 4.3061\n",
    "FREQ_ecor = 1"
   ]
  },
  {
   "cell_type": "code",
   "execution_count": 49,
   "metadata": {},
   "outputs": [],
   "source": [
    "cal_ecor = {\"2024-06-17\": 0.50, \"2025-06-16\": 1}"
   ]
  },
  {
   "cell_type": "code",
   "execution_count": 50,
   "metadata": {},
   "outputs": [],
   "source": [
    "ecor = DebentureIPCA(date=DATA_ecor, maturity=\"2025-06-15\", vne=VNE_ecor, vna=VNA_ecor, pu=PU_ecor,\n",
    "                     issue_rate=7.4438, market_rate=TAXA_ecor, freq=FREQ_ecor, redemption=cal_ecor)"
   ]
  },
  {
   "cell_type": "code",
   "execution_count": 51,
   "metadata": {},
   "outputs": [
    {
     "data": {
      "text/html": [
       "<div>\n",
       "<style scoped>\n",
       "    .dataframe tbody tr th:only-of-type {\n",
       "        vertical-align: middle;\n",
       "    }\n",
       "\n",
       "    .dataframe tbody tr th {\n",
       "        vertical-align: top;\n",
       "    }\n",
       "\n",
       "    .dataframe thead th {\n",
       "        text-align: right;\n",
       "    }\n",
       "</style>\n",
       "<table border=\"1\" class=\"dataframe\">\n",
       "  <thead>\n",
       "    <tr style=\"text-align: right;\">\n",
       "      <th></th>\n",
       "      <th>Debenture IPCA Spread</th>\n",
       "    </tr>\n",
       "  </thead>\n",
       "  <tbody>\n",
       "    <tr>\n",
       "      <th>Convention</th>\n",
       "      <td>IPCA Spread</td>\n",
       "    </tr>\n",
       "    <tr>\n",
       "      <th>Frequency</th>\n",
       "      <td>Annual</td>\n",
       "    </tr>\n",
       "    <tr>\n",
       "      <th>Date</th>\n",
       "      <td>2021-03-18</td>\n",
       "    </tr>\n",
       "    <tr>\n",
       "      <th>Maturity</th>\n",
       "      <td>2025-06-15</td>\n",
       "    </tr>\n",
       "    <tr>\n",
       "      <th>Last payment date</th>\n",
       "      <td>2020-06-15</td>\n",
       "    </tr>\n",
       "    <tr>\n",
       "      <th>Next payment date</th>\n",
       "      <td>2021-06-15</td>\n",
       "    </tr>\n",
       "    <tr>\n",
       "      <th>Days to next payment</th>\n",
       "      <td>60</td>\n",
       "    </tr>\n",
       "    <tr>\n",
       "      <th>Remaining payments</th>\n",
       "      <td>5</td>\n",
       "    </tr>\n",
       "    <tr>\n",
       "      <th>Term to maturity</th>\n",
       "      <td>4.23</td>\n",
       "    </tr>\n",
       "    <tr>\n",
       "      <th>VNE</th>\n",
       "      <td>1000.000000</td>\n",
       "    </tr>\n",
       "    <tr>\n",
       "      <th>VNA</th>\n",
       "      <td>1121.243100</td>\n",
       "    </tr>\n",
       "    <tr>\n",
       "      <th>PU Par</th>\n",
       "      <td>1183.949760</td>\n",
       "    </tr>\n",
       "    <tr>\n",
       "      <th>Price</th>\n",
       "      <td>1302.901462</td>\n",
       "    </tr>\n",
       "    <tr>\n",
       "      <th>Price/Par ratio</th>\n",
       "      <td>110.05%</td>\n",
       "    </tr>\n",
       "    <tr>\n",
       "      <th>Issue rate</th>\n",
       "      <td>7.4438%</td>\n",
       "    </tr>\n",
       "    <tr>\n",
       "      <th>Market rate</th>\n",
       "      <td>4.3061%</td>\n",
       "    </tr>\n",
       "    <tr>\n",
       "      <th>Duration</th>\n",
       "      <td>3.25</td>\n",
       "    </tr>\n",
       "  </tbody>\n",
       "</table>\n",
       "</div>"
      ],
      "text/plain": [
       "                     Debenture IPCA Spread\n",
       "Convention                     IPCA Spread\n",
       "Frequency                           Annual\n",
       "Date                            2021-03-18\n",
       "Maturity                        2025-06-15\n",
       "Last payment date               2020-06-15\n",
       "Next payment date               2021-06-15\n",
       "Days to next payment                    60\n",
       "Remaining payments                       5\n",
       "Term to maturity                      4.23\n",
       "VNE                            1000.000000\n",
       "VNA                            1121.243100\n",
       "PU Par                         1183.949760\n",
       "Price                          1302.901462\n",
       "Price/Par ratio                    110.05%\n",
       "Issue rate                         7.4438%\n",
       "Market rate                        4.3061%\n",
       "Duration                              3.25"
      ]
     },
     "execution_count": 51,
     "metadata": {},
     "output_type": "execute_result"
    }
   ],
   "source": [
    "ecor.des()"
   ]
  },
  {
   "cell_type": "code",
   "execution_count": 52,
   "metadata": {},
   "outputs": [],
   "source": [
    "cf_ecor = ecor.cashflow()"
   ]
  },
  {
   "cell_type": "code",
   "execution_count": 53,
   "metadata": {},
   "outputs": [
    {
     "data": {
      "text/html": [
       "<div>\n",
       "<style scoped>\n",
       "    .dataframe tbody tr th:only-of-type {\n",
       "        vertical-align: middle;\n",
       "    }\n",
       "\n",
       "    .dataframe tbody tr th {\n",
       "        vertical-align: top;\n",
       "    }\n",
       "\n",
       "    .dataframe thead th {\n",
       "        text-align: right;\n",
       "    }\n",
       "</style>\n",
       "<table border=\"1\" class=\"dataframe\">\n",
       "  <thead>\n",
       "    <tr style=\"text-align: right;\">\n",
       "      <th></th>\n",
       "      <th>Date</th>\n",
       "      <th>Days</th>\n",
       "      <th>Interests</th>\n",
       "      <th>Redemptions</th>\n",
       "      <th>Payments</th>\n",
       "      <th>PV of Cash Flows</th>\n",
       "    </tr>\n",
       "  </thead>\n",
       "  <tbody>\n",
       "    <tr>\n",
       "      <th>0</th>\n",
       "      <td>2021-06-15</td>\n",
       "      <td>60</td>\n",
       "      <td>83.119906</td>\n",
       "      <td>0.00000</td>\n",
       "      <td>83.119906</td>\n",
       "      <td>82.289721</td>\n",
       "    </tr>\n",
       "    <tr>\n",
       "      <th>1</th>\n",
       "      <td>2022-06-15</td>\n",
       "      <td>313</td>\n",
       "      <td>83.806378</td>\n",
       "      <td>0.00000</td>\n",
       "      <td>83.806378</td>\n",
       "      <td>79.530782</td>\n",
       "    </tr>\n",
       "    <tr>\n",
       "      <th>2</th>\n",
       "      <td>2023-06-15</td>\n",
       "      <td>563</td>\n",
       "      <td>82.776820</td>\n",
       "      <td>0.00000</td>\n",
       "      <td>82.776820</td>\n",
       "      <td>75.335994</td>\n",
       "    </tr>\n",
       "    <tr>\n",
       "      <th>3</th>\n",
       "      <td>2024-06-17</td>\n",
       "      <td>814</td>\n",
       "      <td>83.119908</td>\n",
       "      <td>560.62155</td>\n",
       "      <td>643.741458</td>\n",
       "      <td>561.782515</td>\n",
       "    </tr>\n",
       "    <tr>\n",
       "      <th>4</th>\n",
       "      <td>2025-06-16</td>\n",
       "      <td>1066</td>\n",
       "      <td>41.731547</td>\n",
       "      <td>560.62155</td>\n",
       "      <td>602.353097</td>\n",
       "      <td>503.962450</td>\n",
       "    </tr>\n",
       "  </tbody>\n",
       "</table>\n",
       "</div>"
      ],
      "text/plain": [
       "         Date  Days  Interests  Redemptions    Payments  PV of Cash Flows\n",
       "0  2021-06-15    60  83.119906      0.00000   83.119906         82.289721\n",
       "1  2022-06-15   313  83.806378      0.00000   83.806378         79.530782\n",
       "2  2023-06-15   563  82.776820      0.00000   82.776820         75.335994\n",
       "3  2024-06-17   814  83.119908    560.62155  643.741458        561.782515\n",
       "4  2025-06-16  1066  41.731547    560.62155  602.353097        503.962450"
      ]
     },
     "execution_count": 53,
     "metadata": {},
     "output_type": "execute_result"
    }
   ],
   "source": [
    "cf_ecor.head()"
   ]
  },
  {
   "cell_type": "code",
   "execution_count": 54,
   "metadata": {},
   "outputs": [
    {
     "data": {
      "text/plain": [
       "'1302.901462'"
      ]
     },
     "execution_count": 54,
     "metadata": {},
     "output_type": "execute_result"
    }
   ],
   "source": [
    "ecor.get(\"price\")"
   ]
  },
  {
   "cell_type": "markdown",
   "metadata": {},
   "source": [
    "### MRV Engenharia"
   ]
  },
  {
   "cell_type": "markdown",
   "metadata": {
    "collapsed": true
   },
   "source": [
    "- Código: **MRVE39**\n",
    "- Série 3\n",
    "- 9ª Emissão\n",
    "- ISIN: **BRMRVEDBS0C1**\n",
    "- ANBIMA: https://data.anbima.com.br/debentures/emissores/08343492000120/emissoes/9/series/MRVE39/caracteristicas"
   ]
  },
  {
   "cell_type": "code",
   "execution_count": 55,
   "metadata": {},
   "outputs": [],
   "source": [
    "DATA_mrv = DATA_REF\n",
    "VNE_mrv = 10000\n",
    "VNA_mrv = 11716.677900\n",
    "PU_mrv = 11794.337470\n",
    "TAXA_mrv = 2.5794\n",
    "FREQ_mrv = 2"
   ]
  },
  {
   "cell_type": "code",
   "execution_count": 56,
   "metadata": {},
   "outputs": [],
   "source": [
    "cal_mrv = {\"2022-02-15\": 1}"
   ]
  },
  {
   "cell_type": "code",
   "execution_count": 57,
   "metadata": {},
   "outputs": [],
   "source": [
    "mrv = DebentureIPCA(date=DATA_mrv, maturity=\"2022-02-15\", vne=VNE_mrv, vna=VNA_mrv, pu=PU_mrv,\n",
    "                    issue_rate=8.2502, market_rate=TAXA_mrv, freq=FREQ_mrv, redemption=cal_mrv)"
   ]
  },
  {
   "cell_type": "code",
   "execution_count": 58,
   "metadata": {},
   "outputs": [
    {
     "data": {
      "text/html": [
       "<div>\n",
       "<style scoped>\n",
       "    .dataframe tbody tr th:only-of-type {\n",
       "        vertical-align: middle;\n",
       "    }\n",
       "\n",
       "    .dataframe tbody tr th {\n",
       "        vertical-align: top;\n",
       "    }\n",
       "\n",
       "    .dataframe thead th {\n",
       "        text-align: right;\n",
       "    }\n",
       "</style>\n",
       "<table border=\"1\" class=\"dataframe\">\n",
       "  <thead>\n",
       "    <tr style=\"text-align: right;\">\n",
       "      <th></th>\n",
       "      <th>Debenture IPCA Spread</th>\n",
       "    </tr>\n",
       "  </thead>\n",
       "  <tbody>\n",
       "    <tr>\n",
       "      <th>Convention</th>\n",
       "      <td>IPCA Spread</td>\n",
       "    </tr>\n",
       "    <tr>\n",
       "      <th>Frequency</th>\n",
       "      <td>Semi-annual</td>\n",
       "    </tr>\n",
       "    <tr>\n",
       "      <th>Date</th>\n",
       "      <td>2021-03-18</td>\n",
       "    </tr>\n",
       "    <tr>\n",
       "      <th>Maturity</th>\n",
       "      <td>2022-02-15</td>\n",
       "    </tr>\n",
       "    <tr>\n",
       "      <th>Last payment date</th>\n",
       "      <td>2021-02-15</td>\n",
       "    </tr>\n",
       "    <tr>\n",
       "      <th>Next payment date</th>\n",
       "      <td>2021-08-16</td>\n",
       "    </tr>\n",
       "    <tr>\n",
       "      <th>Days to next payment</th>\n",
       "      <td>104</td>\n",
       "    </tr>\n",
       "    <tr>\n",
       "      <th>Remaining payments</th>\n",
       "      <td>2</td>\n",
       "    </tr>\n",
       "    <tr>\n",
       "      <th>Term to maturity</th>\n",
       "      <td>0.92</td>\n",
       "    </tr>\n",
       "    <tr>\n",
       "      <th>VNE</th>\n",
       "      <td>10000.000000</td>\n",
       "    </tr>\n",
       "    <tr>\n",
       "      <th>VNA</th>\n",
       "      <td>11716.677900</td>\n",
       "    </tr>\n",
       "    <tr>\n",
       "      <th>PU Par</th>\n",
       "      <td>11794.337470</td>\n",
       "    </tr>\n",
       "    <tr>\n",
       "      <th>Price</th>\n",
       "      <td>12377.885899</td>\n",
       "    </tr>\n",
       "    <tr>\n",
       "      <th>Price/Par ratio</th>\n",
       "      <td>104.95%</td>\n",
       "    </tr>\n",
       "    <tr>\n",
       "      <th>Issue rate</th>\n",
       "      <td>8.2502%</td>\n",
       "    </tr>\n",
       "    <tr>\n",
       "      <th>Market rate</th>\n",
       "      <td>2.5794%</td>\n",
       "    </tr>\n",
       "    <tr>\n",
       "      <th>Duration</th>\n",
       "      <td>0.9</td>\n",
       "    </tr>\n",
       "  </tbody>\n",
       "</table>\n",
       "</div>"
      ],
      "text/plain": [
       "                     Debenture IPCA Spread\n",
       "Convention                     IPCA Spread\n",
       "Frequency                      Semi-annual\n",
       "Date                            2021-03-18\n",
       "Maturity                        2022-02-15\n",
       "Last payment date               2021-02-15\n",
       "Next payment date               2021-08-16\n",
       "Days to next payment                   104\n",
       "Remaining payments                       2\n",
       "Term to maturity                      0.92\n",
       "VNE                           10000.000000\n",
       "VNA                           11716.677900\n",
       "PU Par                        11794.337470\n",
       "Price                         12377.885899\n",
       "Price/Par ratio                    104.95%\n",
       "Issue rate                         8.2502%\n",
       "Market rate                        2.5794%\n",
       "Duration                               0.9"
      ]
     },
     "execution_count": 58,
     "metadata": {},
     "output_type": "execute_result"
    }
   ],
   "source": [
    "mrv.des()"
   ]
  },
  {
   "cell_type": "code",
   "execution_count": 59,
   "metadata": {},
   "outputs": [],
   "source": [
    "cf_mrv = mrv.cashflow()"
   ]
  },
  {
   "cell_type": "code",
   "execution_count": 60,
   "metadata": {},
   "outputs": [
    {
     "data": {
      "text/html": [
       "<div>\n",
       "<style scoped>\n",
       "    .dataframe tbody tr th:only-of-type {\n",
       "        vertical-align: middle;\n",
       "    }\n",
       "\n",
       "    .dataframe tbody tr th {\n",
       "        vertical-align: top;\n",
       "    }\n",
       "\n",
       "    .dataframe thead th {\n",
       "        text-align: right;\n",
       "    }\n",
       "</style>\n",
       "<table border=\"1\" class=\"dataframe\">\n",
       "  <thead>\n",
       "    <tr style=\"text-align: right;\">\n",
       "      <th></th>\n",
       "      <th>Date</th>\n",
       "      <th>Days</th>\n",
       "      <th>Interests</th>\n",
       "      <th>Redemptions</th>\n",
       "      <th>Payments</th>\n",
       "      <th>PV of Cash Flows</th>\n",
       "    </tr>\n",
       "  </thead>\n",
       "  <tbody>\n",
       "    <tr>\n",
       "      <th>0</th>\n",
       "      <td>2021-08-16</td>\n",
       "      <td>104</td>\n",
       "      <td>469.912739</td>\n",
       "      <td>0.0000</td>\n",
       "      <td>469.912739</td>\n",
       "      <td>464.999740</td>\n",
       "    </tr>\n",
       "    <tr>\n",
       "      <th>1</th>\n",
       "      <td>2022-02-15</td>\n",
       "      <td>231</td>\n",
       "      <td>477.582549</td>\n",
       "      <td>11716.6779</td>\n",
       "      <td>12194.260449</td>\n",
       "      <td>11912.886159</td>\n",
       "    </tr>\n",
       "  </tbody>\n",
       "</table>\n",
       "</div>"
      ],
      "text/plain": [
       "         Date  Days   Interests  Redemptions      Payments  PV of Cash Flows\n",
       "0  2021-08-16   104  469.912739       0.0000    469.912739        464.999740\n",
       "1  2022-02-15   231  477.582549   11716.6779  12194.260449      11912.886159"
      ]
     },
     "execution_count": 60,
     "metadata": {},
     "output_type": "execute_result"
    }
   ],
   "source": [
    "cf_mrv.head()"
   ]
  },
  {
   "cell_type": "code",
   "execution_count": 61,
   "metadata": {},
   "outputs": [
    {
     "data": {
      "text/plain": [
       "'12377.885899'"
      ]
     },
     "execution_count": 61,
     "metadata": {},
     "output_type": "execute_result"
    }
   ],
   "source": [
    "mrv.get(\"price\")"
   ]
  },
  {
   "cell_type": "markdown",
   "metadata": {},
   "source": [
    "### Arteris"
   ]
  },
  {
   "cell_type": "markdown",
   "metadata": {},
   "source": [
    "- Código: **ARTR19**"
   ]
  },
  {
   "cell_type": "code",
   "execution_count": 62,
   "metadata": {},
   "outputs": [],
   "source": [
    "DATA_art = DATA_REF\n",
    "VNE_art = 1000\n",
    "VNA_art = 1035.550370\n",
    "PU_art = 1036.133122\n",
    "TAXA_art = 4.4851\n",
    "FREQ_art = 2"
   ]
  },
  {
   "cell_type": "code",
   "execution_count": 63,
   "metadata": {},
   "outputs": [],
   "source": [
    "cal_art = {\"2026-09-15\": 0.50, \"2027-09-15\": 1}"
   ]
  },
  {
   "cell_type": "code",
   "execution_count": 64,
   "metadata": {},
   "outputs": [],
   "source": [
    "art = DebentureIPCA(date=DATA_art, maturity=\"2027-09-15\", vne=VNE_art, vna=VNA_art, pu=PU_art,\n",
    "                    issue_rate=4.8392, market_rate=TAXA_art, freq=FREQ_art, redemption=cal_art)"
   ]
  },
  {
   "cell_type": "code",
   "execution_count": 65,
   "metadata": {},
   "outputs": [
    {
     "data": {
      "text/html": [
       "<div>\n",
       "<style scoped>\n",
       "    .dataframe tbody tr th:only-of-type {\n",
       "        vertical-align: middle;\n",
       "    }\n",
       "\n",
       "    .dataframe tbody tr th {\n",
       "        vertical-align: top;\n",
       "    }\n",
       "\n",
       "    .dataframe thead th {\n",
       "        text-align: right;\n",
       "    }\n",
       "</style>\n",
       "<table border=\"1\" class=\"dataframe\">\n",
       "  <thead>\n",
       "    <tr style=\"text-align: right;\">\n",
       "      <th></th>\n",
       "      <th>Debenture IPCA Spread</th>\n",
       "    </tr>\n",
       "  </thead>\n",
       "  <tbody>\n",
       "    <tr>\n",
       "      <th>Convention</th>\n",
       "      <td>IPCA Spread</td>\n",
       "    </tr>\n",
       "    <tr>\n",
       "      <th>Frequency</th>\n",
       "      <td>Semi-annual</td>\n",
       "    </tr>\n",
       "    <tr>\n",
       "      <th>Date</th>\n",
       "      <td>2021-03-18</td>\n",
       "    </tr>\n",
       "    <tr>\n",
       "      <th>Maturity</th>\n",
       "      <td>2027-09-15</td>\n",
       "    </tr>\n",
       "    <tr>\n",
       "      <th>Last payment date</th>\n",
       "      <td>2021-03-15</td>\n",
       "    </tr>\n",
       "    <tr>\n",
       "      <th>Next payment date</th>\n",
       "      <td>2021-09-15</td>\n",
       "    </tr>\n",
       "    <tr>\n",
       "      <th>Days to next payment</th>\n",
       "      <td>125</td>\n",
       "    </tr>\n",
       "    <tr>\n",
       "      <th>Remaining payments</th>\n",
       "      <td>13</td>\n",
       "    </tr>\n",
       "    <tr>\n",
       "      <th>Term to maturity</th>\n",
       "      <td>6.48</td>\n",
       "    </tr>\n",
       "    <tr>\n",
       "      <th>VNE</th>\n",
       "      <td>1000.000000</td>\n",
       "    </tr>\n",
       "    <tr>\n",
       "      <th>VNA</th>\n",
       "      <td>1035.550370</td>\n",
       "    </tr>\n",
       "    <tr>\n",
       "      <th>PU Par</th>\n",
       "      <td>1036.133122</td>\n",
       "    </tr>\n",
       "    <tr>\n",
       "      <th>Price</th>\n",
       "      <td>1054.771236</td>\n",
       "    </tr>\n",
       "    <tr>\n",
       "      <th>Price/Par ratio</th>\n",
       "      <td>101.80%</td>\n",
       "    </tr>\n",
       "    <tr>\n",
       "      <th>Issue rate</th>\n",
       "      <td>4.8392%</td>\n",
       "    </tr>\n",
       "    <tr>\n",
       "      <th>Market rate</th>\n",
       "      <td>4.4851%</td>\n",
       "    </tr>\n",
       "    <tr>\n",
       "      <th>Duration</th>\n",
       "      <td>5.27</td>\n",
       "    </tr>\n",
       "  </tbody>\n",
       "</table>\n",
       "</div>"
      ],
      "text/plain": [
       "                     Debenture IPCA Spread\n",
       "Convention                     IPCA Spread\n",
       "Frequency                      Semi-annual\n",
       "Date                            2021-03-18\n",
       "Maturity                        2027-09-15\n",
       "Last payment date               2021-03-15\n",
       "Next payment date               2021-09-15\n",
       "Days to next payment                   125\n",
       "Remaining payments                      13\n",
       "Term to maturity                      6.48\n",
       "VNE                            1000.000000\n",
       "VNA                            1035.550370\n",
       "PU Par                         1036.133122\n",
       "Price                          1054.771236\n",
       "Price/Par ratio                    101.80%\n",
       "Issue rate                         4.8392%\n",
       "Market rate                        4.4851%\n",
       "Duration                              5.27"
      ]
     },
     "execution_count": 65,
     "metadata": {},
     "output_type": "execute_result"
    }
   ],
   "source": [
    "art.des()"
   ]
  },
  {
   "cell_type": "code",
   "execution_count": 66,
   "metadata": {},
   "outputs": [],
   "source": [
    "cf_art = art.cashflow()"
   ]
  },
  {
   "cell_type": "code",
   "execution_count": 67,
   "metadata": {},
   "outputs": [
    {
     "data": {
      "text/html": [
       "<div>\n",
       "<style scoped>\n",
       "    .dataframe tbody tr th:only-of-type {\n",
       "        vertical-align: middle;\n",
       "    }\n",
       "\n",
       "    .dataframe tbody tr th {\n",
       "        vertical-align: top;\n",
       "    }\n",
       "\n",
       "    .dataframe thead th {\n",
       "        text-align: right;\n",
       "    }\n",
       "</style>\n",
       "<table border=\"1\" class=\"dataframe\">\n",
       "  <thead>\n",
       "    <tr style=\"text-align: right;\">\n",
       "      <th></th>\n",
       "      <th>Date</th>\n",
       "      <th>Days</th>\n",
       "      <th>Interests</th>\n",
       "      <th>Redemptions</th>\n",
       "      <th>Payments</th>\n",
       "      <th>PV of Cash Flows</th>\n",
       "    </tr>\n",
       "  </thead>\n",
       "  <tbody>\n",
       "    <tr>\n",
       "      <th>0</th>\n",
       "      <td>2021-09-15</td>\n",
       "      <td>125</td>\n",
       "      <td>25.157919</td>\n",
       "      <td>0.0</td>\n",
       "      <td>25.157919</td>\n",
       "      <td>24.616321</td>\n",
       "    </tr>\n",
       "    <tr>\n",
       "      <th>1</th>\n",
       "      <td>2022-03-15</td>\n",
       "      <td>249</td>\n",
       "      <td>24.362562</td>\n",
       "      <td>0.0</td>\n",
       "      <td>24.362562</td>\n",
       "      <td>23.328962</td>\n",
       "    </tr>\n",
       "    <tr>\n",
       "      <th>2</th>\n",
       "      <td>2022-09-15</td>\n",
       "      <td>377</td>\n",
       "      <td>25.157922</td>\n",
       "      <td>0.0</td>\n",
       "      <td>25.157922</td>\n",
       "      <td>23.559650</td>\n",
       "    </tr>\n",
       "    <tr>\n",
       "      <th>3</th>\n",
       "      <td>2023-03-15</td>\n",
       "      <td>501</td>\n",
       "      <td>24.362562</td>\n",
       "      <td>0.0</td>\n",
       "      <td>24.362562</td>\n",
       "      <td>22.327550</td>\n",
       "    </tr>\n",
       "    <tr>\n",
       "      <th>4</th>\n",
       "      <td>2023-09-15</td>\n",
       "      <td>628</td>\n",
       "      <td>24.959026</td>\n",
       "      <td>0.0</td>\n",
       "      <td>24.959026</td>\n",
       "      <td>22.373965</td>\n",
       "    </tr>\n",
       "  </tbody>\n",
       "</table>\n",
       "</div>"
      ],
      "text/plain": [
       "         Date  Days  Interests  Redemptions   Payments  PV of Cash Flows\n",
       "0  2021-09-15   125  25.157919          0.0  25.157919         24.616321\n",
       "1  2022-03-15   249  24.362562          0.0  24.362562         23.328962\n",
       "2  2022-09-15   377  25.157922          0.0  25.157922         23.559650\n",
       "3  2023-03-15   501  24.362562          0.0  24.362562         22.327550\n",
       "4  2023-09-15   628  24.959026          0.0  24.959026         22.373965"
      ]
     },
     "execution_count": 67,
     "metadata": {},
     "output_type": "execute_result"
    }
   ],
   "source": [
    "cf_art.head()"
   ]
  },
  {
   "cell_type": "markdown",
   "metadata": {},
   "source": [
    "### ECHOENERGIA"
   ]
  },
  {
   "cell_type": "markdown",
   "metadata": {},
   "source": [
    "- Código: **ECHP11**"
   ]
  },
  {
   "cell_type": "code",
   "execution_count": 68,
   "metadata": {},
   "outputs": [],
   "source": [
    "DATA_ech = DATA_REF\n",
    "VNE_ech = 1000\n",
    "VNA_ech =  1059.774480\n",
    "PU_ech = 1114.748040\n",
    "TAXA_ech = 5.4258\n",
    "FREQ_ech = 1"
   ]
  },
  {
   "cell_type": "code",
   "execution_count": 69,
   "metadata": {},
   "outputs": [],
   "source": [
    "cal_ech = {\"2023-06-15\": 0.0227, \"2024-06-17\": 0.036836, \"2025-06-16\": 0.136938, \"2026-06-15\": 0.164697,\n",
    "           \"2027-06-15\": 0.264220, \"2028-06-16\": 0.341478, \"2029-06-15\": 0.496046, \"2030-06-17\": 1}"
   ]
  },
  {
   "cell_type": "code",
   "execution_count": 70,
   "metadata": {},
   "outputs": [],
   "source": [
    "ech = DebentureIPCA(date=DATA_ech, maturity=\"2030-06-15\", vne=VNE_ech, vna=VNA_ech, pu=PU_ech,\n",
    "                    issue_rate=6.9, market_rate=TAXA_ech, freq=FREQ_ech, redemption=cal_ech)"
   ]
  },
  {
   "cell_type": "code",
   "execution_count": 71,
   "metadata": {},
   "outputs": [
    {
     "data": {
      "text/html": [
       "<div>\n",
       "<style scoped>\n",
       "    .dataframe tbody tr th:only-of-type {\n",
       "        vertical-align: middle;\n",
       "    }\n",
       "\n",
       "    .dataframe tbody tr th {\n",
       "        vertical-align: top;\n",
       "    }\n",
       "\n",
       "    .dataframe thead th {\n",
       "        text-align: right;\n",
       "    }\n",
       "</style>\n",
       "<table border=\"1\" class=\"dataframe\">\n",
       "  <thead>\n",
       "    <tr style=\"text-align: right;\">\n",
       "      <th></th>\n",
       "      <th>Debenture IPCA Spread</th>\n",
       "    </tr>\n",
       "  </thead>\n",
       "  <tbody>\n",
       "    <tr>\n",
       "      <th>Convention</th>\n",
       "      <td>IPCA Spread</td>\n",
       "    </tr>\n",
       "    <tr>\n",
       "      <th>Frequency</th>\n",
       "      <td>Annual</td>\n",
       "    </tr>\n",
       "    <tr>\n",
       "      <th>Date</th>\n",
       "      <td>2021-03-18</td>\n",
       "    </tr>\n",
       "    <tr>\n",
       "      <th>Maturity</th>\n",
       "      <td>2030-06-15</td>\n",
       "    </tr>\n",
       "    <tr>\n",
       "      <th>Last payment date</th>\n",
       "      <td>2020-06-15</td>\n",
       "    </tr>\n",
       "    <tr>\n",
       "      <th>Next payment date</th>\n",
       "      <td>2021-06-15</td>\n",
       "    </tr>\n",
       "    <tr>\n",
       "      <th>Days to next payment</th>\n",
       "      <td>60</td>\n",
       "    </tr>\n",
       "    <tr>\n",
       "      <th>Remaining payments</th>\n",
       "      <td>10</td>\n",
       "    </tr>\n",
       "    <tr>\n",
       "      <th>Term to maturity</th>\n",
       "      <td>9.21</td>\n",
       "    </tr>\n",
       "    <tr>\n",
       "      <th>VNE</th>\n",
       "      <td>1000.000000</td>\n",
       "    </tr>\n",
       "    <tr>\n",
       "      <th>VNA</th>\n",
       "      <td>1059.774480</td>\n",
       "    </tr>\n",
       "    <tr>\n",
       "      <th>PU Par</th>\n",
       "      <td>1114.748040</td>\n",
       "    </tr>\n",
       "    <tr>\n",
       "      <th>Price</th>\n",
       "      <td>1198.885147</td>\n",
       "    </tr>\n",
       "    <tr>\n",
       "      <th>Price/Par ratio</th>\n",
       "      <td>107.55%</td>\n",
       "    </tr>\n",
       "    <tr>\n",
       "      <th>Issue rate</th>\n",
       "      <td>6.9000%</td>\n",
       "    </tr>\n",
       "    <tr>\n",
       "      <th>Market rate</th>\n",
       "      <td>5.4258%</td>\n",
       "    </tr>\n",
       "    <tr>\n",
       "      <th>Duration</th>\n",
       "      <td>5.29</td>\n",
       "    </tr>\n",
       "  </tbody>\n",
       "</table>\n",
       "</div>"
      ],
      "text/plain": [
       "                     Debenture IPCA Spread\n",
       "Convention                     IPCA Spread\n",
       "Frequency                           Annual\n",
       "Date                            2021-03-18\n",
       "Maturity                        2030-06-15\n",
       "Last payment date               2020-06-15\n",
       "Next payment date               2021-06-15\n",
       "Days to next payment                    60\n",
       "Remaining payments                      10\n",
       "Term to maturity                      9.21\n",
       "VNE                            1000.000000\n",
       "VNA                            1059.774480\n",
       "PU Par                         1114.748040\n",
       "Price                          1198.885147\n",
       "Price/Par ratio                    107.55%\n",
       "Issue rate                         6.9000%\n",
       "Market rate                        5.4258%\n",
       "Duration                              5.29"
      ]
     },
     "execution_count": 71,
     "metadata": {},
     "output_type": "execute_result"
    }
   ],
   "source": [
    "ech.des()"
   ]
  },
  {
   "cell_type": "code",
   "execution_count": 72,
   "metadata": {},
   "outputs": [],
   "source": [
    "cf_ech = ech.cashflow()"
   ]
  },
  {
   "cell_type": "code",
   "execution_count": 73,
   "metadata": {},
   "outputs": [
    {
     "data": {
      "text/html": [
       "<div>\n",
       "<style scoped>\n",
       "    .dataframe tbody tr th:only-of-type {\n",
       "        vertical-align: middle;\n",
       "    }\n",
       "\n",
       "    .dataframe tbody tr th {\n",
       "        vertical-align: top;\n",
       "    }\n",
       "\n",
       "    .dataframe thead th {\n",
       "        text-align: right;\n",
       "    }\n",
       "</style>\n",
       "<table border=\"1\" class=\"dataframe\">\n",
       "  <thead>\n",
       "    <tr style=\"text-align: right;\">\n",
       "      <th></th>\n",
       "      <th>Date</th>\n",
       "      <th>Days</th>\n",
       "      <th>Interests</th>\n",
       "      <th>Redemptions</th>\n",
       "      <th>Payments</th>\n",
       "      <th>PV of Cash Flows</th>\n",
       "    </tr>\n",
       "  </thead>\n",
       "  <tbody>\n",
       "    <tr>\n",
       "      <th>0</th>\n",
       "      <td>2021-06-15</td>\n",
       "      <td>60</td>\n",
       "      <td>72.824513</td>\n",
       "      <td>0.000000</td>\n",
       "      <td>72.824513</td>\n",
       "      <td>71.914098</td>\n",
       "    </tr>\n",
       "    <tr>\n",
       "      <th>1</th>\n",
       "      <td>2022-06-15</td>\n",
       "      <td>313</td>\n",
       "      <td>73.424444</td>\n",
       "      <td>0.000000</td>\n",
       "      <td>73.424444</td>\n",
       "      <td>68.760520</td>\n",
       "    </tr>\n",
       "    <tr>\n",
       "      <th>2</th>\n",
       "      <td>2023-06-15</td>\n",
       "      <td>563</td>\n",
       "      <td>72.524668</td>\n",
       "      <td>24.056881</td>\n",
       "      <td>96.581549</td>\n",
       "      <td>85.827777</td>\n",
       "    </tr>\n",
       "    <tr>\n",
       "      <th>3</th>\n",
       "      <td>2024-06-17</td>\n",
       "      <td>814</td>\n",
       "      <td>71.171398</td>\n",
       "      <td>38.151693</td>\n",
       "      <td>109.323091</td>\n",
       "      <td>92.170036</td>\n",
       "    </tr>\n",
       "    <tr>\n",
       "      <th>4</th>\n",
       "      <td>2025-06-16</td>\n",
       "      <td>1066</td>\n",
       "      <td>68.832048</td>\n",
       "      <td>136.604680</td>\n",
       "      <td>205.436728</td>\n",
       "      <td>164.289208</td>\n",
       "    </tr>\n",
       "  </tbody>\n",
       "</table>\n",
       "</div>"
      ],
      "text/plain": [
       "         Date  Days  Interests  Redemptions    Payments  PV of Cash Flows\n",
       "0  2021-06-15    60  72.824513     0.000000   72.824513         71.914098\n",
       "1  2022-06-15   313  73.424444     0.000000   73.424444         68.760520\n",
       "2  2023-06-15   563  72.524668    24.056881   96.581549         85.827777\n",
       "3  2024-06-17   814  71.171398    38.151693  109.323091         92.170036\n",
       "4  2025-06-16  1066  68.832048   136.604680  205.436728        164.289208"
      ]
     },
     "execution_count": 73,
     "metadata": {},
     "output_type": "execute_result"
    }
   ],
   "source": [
    "cf_ech.head()"
   ]
  },
  {
   "cell_type": "markdown",
   "metadata": {},
   "source": [
    "### MANAUS AMBIENTAL - AEGEA"
   ]
  },
  {
   "cell_type": "markdown",
   "metadata": {},
   "source": [
    "- Código: **MNAU13**"
   ]
  },
  {
   "cell_type": "code",
   "execution_count": 74,
   "metadata": {},
   "outputs": [],
   "source": [
    "DATA_mna = DATA_REF\n",
    "VNE_mna = 1000\n",
    "VNA_mna =  1057.759110\n",
    "PU_mna = 1073.912775\n",
    "TAXA_mna = 4.7006\n",
    "FREQ_mna = 2"
   ]
  },
  {
   "cell_type": "code",
   "execution_count": 75,
   "metadata": {},
   "outputs": [],
   "source": [
    "cal_mna = {\"2025-06-16\": 1}"
   ]
  },
  {
   "cell_type": "code",
   "execution_count": 76,
   "metadata": {},
   "outputs": [],
   "source": [
    "mna = DebentureIPCA(date=DATA_mna, maturity=\"2025-06-16\", vne=VNE_mna, vna=VNA_mna, pu=PU_mna,\n",
    "                    issue_rate=6.25, market_rate=TAXA_mna, freq=FREQ_mna, redemption=cal_mna)"
   ]
  },
  {
   "cell_type": "code",
   "execution_count": 77,
   "metadata": {},
   "outputs": [
    {
     "data": {
      "text/html": [
       "<div>\n",
       "<style scoped>\n",
       "    .dataframe tbody tr th:only-of-type {\n",
       "        vertical-align: middle;\n",
       "    }\n",
       "\n",
       "    .dataframe tbody tr th {\n",
       "        vertical-align: top;\n",
       "    }\n",
       "\n",
       "    .dataframe thead th {\n",
       "        text-align: right;\n",
       "    }\n",
       "</style>\n",
       "<table border=\"1\" class=\"dataframe\">\n",
       "  <thead>\n",
       "    <tr style=\"text-align: right;\">\n",
       "      <th></th>\n",
       "      <th>Debenture IPCA Spread</th>\n",
       "    </tr>\n",
       "  </thead>\n",
       "  <tbody>\n",
       "    <tr>\n",
       "      <th>Convention</th>\n",
       "      <td>IPCA Spread</td>\n",
       "    </tr>\n",
       "    <tr>\n",
       "      <th>Frequency</th>\n",
       "      <td>Semi-annual</td>\n",
       "    </tr>\n",
       "    <tr>\n",
       "      <th>Date</th>\n",
       "      <td>2021-03-18</td>\n",
       "    </tr>\n",
       "    <tr>\n",
       "      <th>Maturity</th>\n",
       "      <td>2025-06-16</td>\n",
       "    </tr>\n",
       "    <tr>\n",
       "      <th>Last payment date</th>\n",
       "      <td>2020-12-16</td>\n",
       "    </tr>\n",
       "    <tr>\n",
       "      <th>Next payment date</th>\n",
       "      <td>2021-06-16</td>\n",
       "    </tr>\n",
       "    <tr>\n",
       "      <th>Days to next payment</th>\n",
       "      <td>61</td>\n",
       "    </tr>\n",
       "    <tr>\n",
       "      <th>Remaining payments</th>\n",
       "      <td>9</td>\n",
       "    </tr>\n",
       "    <tr>\n",
       "      <th>Term to maturity</th>\n",
       "      <td>4.23</td>\n",
       "    </tr>\n",
       "    <tr>\n",
       "      <th>VNE</th>\n",
       "      <td>1000.000000</td>\n",
       "    </tr>\n",
       "    <tr>\n",
       "      <th>VNA</th>\n",
       "      <td>1057.759110</td>\n",
       "    </tr>\n",
       "    <tr>\n",
       "      <th>PU Par</th>\n",
       "      <td>1073.912775</td>\n",
       "    </tr>\n",
       "    <tr>\n",
       "      <th>Price</th>\n",
       "      <td>1134.588054</td>\n",
       "    </tr>\n",
       "    <tr>\n",
       "      <th>Price/Par ratio</th>\n",
       "      <td>105.65%</td>\n",
       "    </tr>\n",
       "    <tr>\n",
       "      <th>Issue rate</th>\n",
       "      <td>6.2500%</td>\n",
       "    </tr>\n",
       "    <tr>\n",
       "      <th>Market rate</th>\n",
       "      <td>4.7006%</td>\n",
       "    </tr>\n",
       "    <tr>\n",
       "      <th>Duration</th>\n",
       "      <td>3.75</td>\n",
       "    </tr>\n",
       "  </tbody>\n",
       "</table>\n",
       "</div>"
      ],
      "text/plain": [
       "                     Debenture IPCA Spread\n",
       "Convention                     IPCA Spread\n",
       "Frequency                      Semi-annual\n",
       "Date                            2021-03-18\n",
       "Maturity                        2025-06-16\n",
       "Last payment date               2020-12-16\n",
       "Next payment date               2021-06-16\n",
       "Days to next payment                    61\n",
       "Remaining payments                       9\n",
       "Term to maturity                      4.23\n",
       "VNE                            1000.000000\n",
       "VNA                            1057.759110\n",
       "PU Par                         1073.912775\n",
       "Price                          1134.588054\n",
       "Price/Par ratio                    105.65%\n",
       "Issue rate                         6.2500%\n",
       "Market rate                        4.7006%\n",
       "Duration                              3.75"
      ]
     },
     "execution_count": 77,
     "metadata": {},
     "output_type": "execute_result"
    }
   ],
   "source": [
    "mna.des()"
   ]
  },
  {
   "cell_type": "code",
   "execution_count": 78,
   "metadata": {},
   "outputs": [],
   "source": [
    "cf_mna = mna.cashflow()"
   ]
  },
  {
   "cell_type": "code",
   "execution_count": 79,
   "metadata": {},
   "outputs": [
    {
     "data": {
      "text/html": [
       "<div>\n",
       "<style scoped>\n",
       "    .dataframe tbody tr th:only-of-type {\n",
       "        vertical-align: middle;\n",
       "    }\n",
       "\n",
       "    .dataframe tbody tr th {\n",
       "        vertical-align: top;\n",
       "    }\n",
       "\n",
       "    .dataframe thead th {\n",
       "        text-align: right;\n",
       "    }\n",
       "</style>\n",
       "<table border=\"1\" class=\"dataframe\">\n",
       "  <thead>\n",
       "    <tr style=\"text-align: right;\">\n",
       "      <th></th>\n",
       "      <th>Date</th>\n",
       "      <th>Days</th>\n",
       "      <th>Interests</th>\n",
       "      <th>Redemptions</th>\n",
       "      <th>Payments</th>\n",
       "      <th>PV of Cash Flows</th>\n",
       "    </tr>\n",
       "  </thead>\n",
       "  <tbody>\n",
       "    <tr>\n",
       "      <th>0</th>\n",
       "      <td>2021-06-16</td>\n",
       "      <td>61</td>\n",
       "      <td>32.029548</td>\n",
       "      <td>0.0</td>\n",
       "      <td>32.029548</td>\n",
       "      <td>31.675380</td>\n",
       "    </tr>\n",
       "    <tr>\n",
       "      <th>1</th>\n",
       "      <td>2021-12-16</td>\n",
       "      <td>188</td>\n",
       "      <td>32.816357</td>\n",
       "      <td>0.0</td>\n",
       "      <td>32.816357</td>\n",
       "      <td>31.710833</td>\n",
       "    </tr>\n",
       "    <tr>\n",
       "      <th>2</th>\n",
       "      <td>2022-06-17</td>\n",
       "      <td>314</td>\n",
       "      <td>32.554024</td>\n",
       "      <td>0.0</td>\n",
       "      <td>32.554024</td>\n",
       "      <td>30.743081</td>\n",
       "    </tr>\n",
       "    <tr>\n",
       "      <th>3</th>\n",
       "      <td>2022-12-16</td>\n",
       "      <td>440</td>\n",
       "      <td>32.554024</td>\n",
       "      <td>0.0</td>\n",
       "      <td>32.554024</td>\n",
       "      <td>30.045041</td>\n",
       "    </tr>\n",
       "    <tr>\n",
       "      <th>4</th>\n",
       "      <td>2023-06-16</td>\n",
       "      <td>564</td>\n",
       "      <td>32.029549</td>\n",
       "      <td>0.0</td>\n",
       "      <td>32.029549</td>\n",
       "      <td>28.900322</td>\n",
       "    </tr>\n",
       "  </tbody>\n",
       "</table>\n",
       "</div>"
      ],
      "text/plain": [
       "         Date  Days  Interests  Redemptions   Payments  PV of Cash Flows\n",
       "0  2021-06-16    61  32.029548          0.0  32.029548         31.675380\n",
       "1  2021-12-16   188  32.816357          0.0  32.816357         31.710833\n",
       "2  2022-06-17   314  32.554024          0.0  32.554024         30.743081\n",
       "3  2022-12-16   440  32.554024          0.0  32.554024         30.045041\n",
       "4  2023-06-16   564  32.029549          0.0  32.029549         28.900322"
      ]
     },
     "execution_count": 79,
     "metadata": {},
     "output_type": "execute_result"
    }
   ],
   "source": [
    "cf_mna.head()"
   ]
  },
  {
   "cell_type": "markdown",
   "metadata": {},
   "source": [
    "### OMEGA ENERGIA"
   ]
  },
  {
   "cell_type": "markdown",
   "metadata": {},
   "source": [
    "- Código: **OMGE31**"
   ]
  },
  {
   "cell_type": "code",
   "execution_count": 80,
   "metadata": {},
   "outputs": [],
   "source": [
    "DATA_omg = DATA_REF\n",
    "VNE_omg = 1000\n",
    "VNA_omg =  1080.650430\n",
    "PU_omg = 1131.094958\n",
    "TAXA_omg = 4.7234\n",
    "FREQ_omg = 1"
   ]
  },
  {
   "cell_type": "code",
   "execution_count": 81,
   "metadata": {},
   "outputs": [],
   "source": [
    "cal_omg = {\"2025-05-15\": 0.40, \"2026-05-15\": 0.60}"
   ]
  },
  {
   "cell_type": "code",
   "execution_count": 82,
   "metadata": {},
   "outputs": [],
   "source": [
    "omg = DebentureIPCA(date=DATA_omg, maturity=\"2026-05-15\", vne=VNE_omg, vna=VNA_omg, pu=PU_omg,\n",
    "                    issue_rate=5.6, market_rate=TAXA_omg, freq=FREQ_omg, redemption=cal_omg, payment=\"fixed\")"
   ]
  },
  {
   "cell_type": "code",
   "execution_count": 83,
   "metadata": {},
   "outputs": [
    {
     "data": {
      "text/html": [
       "<div>\n",
       "<style scoped>\n",
       "    .dataframe tbody tr th:only-of-type {\n",
       "        vertical-align: middle;\n",
       "    }\n",
       "\n",
       "    .dataframe tbody tr th {\n",
       "        vertical-align: top;\n",
       "    }\n",
       "\n",
       "    .dataframe thead th {\n",
       "        text-align: right;\n",
       "    }\n",
       "</style>\n",
       "<table border=\"1\" class=\"dataframe\">\n",
       "  <thead>\n",
       "    <tr style=\"text-align: right;\">\n",
       "      <th></th>\n",
       "      <th>Debenture IPCA Spread</th>\n",
       "    </tr>\n",
       "  </thead>\n",
       "  <tbody>\n",
       "    <tr>\n",
       "      <th>Convention</th>\n",
       "      <td>IPCA Spread</td>\n",
       "    </tr>\n",
       "    <tr>\n",
       "      <th>Frequency</th>\n",
       "      <td>Annual</td>\n",
       "    </tr>\n",
       "    <tr>\n",
       "      <th>Date</th>\n",
       "      <td>2021-03-18</td>\n",
       "    </tr>\n",
       "    <tr>\n",
       "      <th>Maturity</th>\n",
       "      <td>2026-05-15</td>\n",
       "    </tr>\n",
       "    <tr>\n",
       "      <th>Last payment date</th>\n",
       "      <td>2020-05-15</td>\n",
       "    </tr>\n",
       "    <tr>\n",
       "      <th>Next payment date</th>\n",
       "      <td>2021-05-17</td>\n",
       "    </tr>\n",
       "    <tr>\n",
       "      <th>Days to next payment</th>\n",
       "      <td>40</td>\n",
       "    </tr>\n",
       "    <tr>\n",
       "      <th>Remaining payments</th>\n",
       "      <td>6</td>\n",
       "    </tr>\n",
       "    <tr>\n",
       "      <th>Term to maturity</th>\n",
       "      <td>5.15</td>\n",
       "    </tr>\n",
       "    <tr>\n",
       "      <th>VNE</th>\n",
       "      <td>1000.000000</td>\n",
       "    </tr>\n",
       "    <tr>\n",
       "      <th>VNA</th>\n",
       "      <td>1080.650430</td>\n",
       "    </tr>\n",
       "    <tr>\n",
       "      <th>PU Par</th>\n",
       "      <td>1131.094958</td>\n",
       "    </tr>\n",
       "    <tr>\n",
       "      <th>Price</th>\n",
       "      <td>1170.529219</td>\n",
       "    </tr>\n",
       "    <tr>\n",
       "      <th>Price/Par ratio</th>\n",
       "      <td>103.49%</td>\n",
       "    </tr>\n",
       "    <tr>\n",
       "      <th>Issue rate</th>\n",
       "      <td>5.6000%</td>\n",
       "    </tr>\n",
       "    <tr>\n",
       "      <th>Market rate</th>\n",
       "      <td>4.7234%</td>\n",
       "    </tr>\n",
       "    <tr>\n",
       "      <th>Duration</th>\n",
       "      <td>4.12</td>\n",
       "    </tr>\n",
       "  </tbody>\n",
       "</table>\n",
       "</div>"
      ],
      "text/plain": [
       "                     Debenture IPCA Spread\n",
       "Convention                     IPCA Spread\n",
       "Frequency                           Annual\n",
       "Date                            2021-03-18\n",
       "Maturity                        2026-05-15\n",
       "Last payment date               2020-05-15\n",
       "Next payment date               2021-05-17\n",
       "Days to next payment                    40\n",
       "Remaining payments                       6\n",
       "Term to maturity                      5.15\n",
       "VNE                            1000.000000\n",
       "VNA                            1080.650430\n",
       "PU Par                         1131.094958\n",
       "Price                          1170.529219\n",
       "Price/Par ratio                    103.49%\n",
       "Issue rate                         5.6000%\n",
       "Market rate                        4.7234%\n",
       "Duration                              4.12"
      ]
     },
     "execution_count": 83,
     "metadata": {},
     "output_type": "execute_result"
    }
   ],
   "source": [
    "omg.des()"
   ]
  },
  {
   "cell_type": "code",
   "execution_count": 84,
   "metadata": {},
   "outputs": [],
   "source": [
    "cf_omg = omg.cashflow()"
   ]
  },
  {
   "cell_type": "code",
   "execution_count": 85,
   "metadata": {},
   "outputs": [
    {
     "data": {
      "text/html": [
       "<div>\n",
       "<style scoped>\n",
       "    .dataframe tbody tr th:only-of-type {\n",
       "        vertical-align: middle;\n",
       "    }\n",
       "\n",
       "    .dataframe tbody tr th {\n",
       "        vertical-align: top;\n",
       "    }\n",
       "\n",
       "    .dataframe thead th {\n",
       "        text-align: right;\n",
       "    }\n",
       "</style>\n",
       "<table border=\"1\" class=\"dataframe\">\n",
       "  <thead>\n",
       "    <tr style=\"text-align: right;\">\n",
       "      <th></th>\n",
       "      <th>Date</th>\n",
       "      <th>Days</th>\n",
       "      <th>Interests</th>\n",
       "      <th>Redemptions</th>\n",
       "      <th>Payments</th>\n",
       "      <th>PV of Cash Flows</th>\n",
       "    </tr>\n",
       "  </thead>\n",
       "  <tbody>\n",
       "    <tr>\n",
       "      <th>0</th>\n",
       "      <td>2021-05-17</td>\n",
       "      <td>40</td>\n",
       "      <td>60.269703</td>\n",
       "      <td>0.000000</td>\n",
       "      <td>60.269703</td>\n",
       "      <td>59.829794</td>\n",
       "    </tr>\n",
       "    <tr>\n",
       "      <th>1</th>\n",
       "      <td>2022-05-16</td>\n",
       "      <td>291</td>\n",
       "      <td>60.269704</td>\n",
       "      <td>0.000000</td>\n",
       "      <td>60.269704</td>\n",
       "      <td>57.141722</td>\n",
       "    </tr>\n",
       "    <tr>\n",
       "      <th>2</th>\n",
       "      <td>2023-05-15</td>\n",
       "      <td>541</td>\n",
       "      <td>60.023038</td>\n",
       "      <td>0.000000</td>\n",
       "      <td>60.023038</td>\n",
       "      <td>54.361017</td>\n",
       "    </tr>\n",
       "    <tr>\n",
       "      <th>3</th>\n",
       "      <td>2024-05-15</td>\n",
       "      <td>792</td>\n",
       "      <td>60.269704</td>\n",
       "      <td>0.000000</td>\n",
       "      <td>60.269704</td>\n",
       "      <td>52.132010</td>\n",
       "    </tr>\n",
       "    <tr>\n",
       "      <th>4</th>\n",
       "      <td>2025-05-15</td>\n",
       "      <td>1044</td>\n",
       "      <td>60.516424</td>\n",
       "      <td>432.260172</td>\n",
       "      <td>492.776596</td>\n",
       "      <td>407.016249</td>\n",
       "    </tr>\n",
       "    <tr>\n",
       "      <th>5</th>\n",
       "      <td>2026-05-15</td>\n",
       "      <td>1297</td>\n",
       "      <td>36.457918</td>\n",
       "      <td>648.390258</td>\n",
       "      <td>684.848176</td>\n",
       "      <td>540.048427</td>\n",
       "    </tr>\n",
       "  </tbody>\n",
       "</table>\n",
       "</div>"
      ],
      "text/plain": [
       "         Date  Days  Interests  Redemptions    Payments  PV of Cash Flows\n",
       "0  2021-05-17    40  60.269703     0.000000   60.269703         59.829794\n",
       "1  2022-05-16   291  60.269704     0.000000   60.269704         57.141722\n",
       "2  2023-05-15   541  60.023038     0.000000   60.023038         54.361017\n",
       "3  2024-05-15   792  60.269704     0.000000   60.269704         52.132010\n",
       "4  2025-05-15  1044  60.516424   432.260172  492.776596        407.016249\n",
       "5  2026-05-15  1297  36.457918   648.390258  684.848176        540.048427"
      ]
     },
     "execution_count": 85,
     "metadata": {},
     "output_type": "execute_result"
    }
   ],
   "source": [
    "cf_omg.head(10)"
   ]
  },
  {
   "cell_type": "markdown",
   "metadata": {},
   "source": [
    "### USINA TERMELETRICA PAMPA SUL"
   ]
  },
  {
   "cell_type": "markdown",
   "metadata": {},
   "source": [
    "- Código: **UTPS12**"
   ]
  },
  {
   "cell_type": "code",
   "execution_count": 86,
   "metadata": {},
   "outputs": [],
   "source": [
    "DATA_utp = DATA_REF\n",
    "VNE_utp = 1000\n",
    "VNA_utp =  1035.128180\n",
    "PU_utp = 1050.427852\n",
    "TAXA_utp = 4.6940\n",
    "FREQ_utp = 2"
   ]
  },
  {
   "cell_type": "code",
   "execution_count": 87,
   "metadata": {},
   "outputs": [],
   "source": [
    "cal_utp = {\"2021-10-15\": 0.025, \"2022-04-18\": 0.028115, \"2022-10-17\": 0.028928, \"2023-04-17\": 0.043617,\n",
    "           \"2023-10-16\": 0.045606, \"2024-04-15\": 0.092433, \"2024-10-15\": 0.101846, \"2025-04-15\": 0.112301,\n",
    "           \"2025-10-15\": 0.126508, \"2026-04-15\": 0.154051, \"2026-10-15\": 0.182105, \"2027-04-15\": 0.216640,\n",
    "           \"2027-10-15\": 0.276552, \"2028-04-17\": 1}"
   ]
  },
  {
   "cell_type": "code",
   "execution_count": 88,
   "metadata": {},
   "outputs": [],
   "source": [
    "utp = DebentureIPCA(date=DATA_utp, maturity=\"2028-04-15\", vne=VNE_utp, vna=VNA_utp, pu=PU_utp,\n",
    "                    issue_rate=4.5, market_rate=TAXA_utp, freq=FREQ_utp, redemption=cal_utp)"
   ]
  },
  {
   "cell_type": "code",
   "execution_count": 89,
   "metadata": {},
   "outputs": [
    {
     "data": {
      "text/html": [
       "<div>\n",
       "<style scoped>\n",
       "    .dataframe tbody tr th:only-of-type {\n",
       "        vertical-align: middle;\n",
       "    }\n",
       "\n",
       "    .dataframe tbody tr th {\n",
       "        vertical-align: top;\n",
       "    }\n",
       "\n",
       "    .dataframe thead th {\n",
       "        text-align: right;\n",
       "    }\n",
       "</style>\n",
       "<table border=\"1\" class=\"dataframe\">\n",
       "  <thead>\n",
       "    <tr style=\"text-align: right;\">\n",
       "      <th></th>\n",
       "      <th>Debenture IPCA Spread</th>\n",
       "    </tr>\n",
       "  </thead>\n",
       "  <tbody>\n",
       "    <tr>\n",
       "      <th>Convention</th>\n",
       "      <td>IPCA Spread</td>\n",
       "    </tr>\n",
       "    <tr>\n",
       "      <th>Frequency</th>\n",
       "      <td>Semi-annual</td>\n",
       "    </tr>\n",
       "    <tr>\n",
       "      <th>Date</th>\n",
       "      <td>2021-03-18</td>\n",
       "    </tr>\n",
       "    <tr>\n",
       "      <th>Maturity</th>\n",
       "      <td>2028-04-15</td>\n",
       "    </tr>\n",
       "    <tr>\n",
       "      <th>Last payment date</th>\n",
       "      <td>2020-10-15</td>\n",
       "    </tr>\n",
       "    <tr>\n",
       "      <th>Next payment date</th>\n",
       "      <td>2021-04-15</td>\n",
       "    </tr>\n",
       "    <tr>\n",
       "      <th>Days to next payment</th>\n",
       "      <td>19</td>\n",
       "    </tr>\n",
       "    <tr>\n",
       "      <th>Remaining payments</th>\n",
       "      <td>15</td>\n",
       "    </tr>\n",
       "    <tr>\n",
       "      <th>Term to maturity</th>\n",
       "      <td>7.06</td>\n",
       "    </tr>\n",
       "    <tr>\n",
       "      <th>VNE</th>\n",
       "      <td>1000.000000</td>\n",
       "    </tr>\n",
       "    <tr>\n",
       "      <th>VNA</th>\n",
       "      <td>1035.128180</td>\n",
       "    </tr>\n",
       "    <tr>\n",
       "      <th>PU Par</th>\n",
       "      <td>1050.427852</td>\n",
       "    </tr>\n",
       "    <tr>\n",
       "      <th>Price</th>\n",
       "      <td>1042.195266</td>\n",
       "    </tr>\n",
       "    <tr>\n",
       "      <th>Price/Par ratio</th>\n",
       "      <td>99.22%</td>\n",
       "    </tr>\n",
       "    <tr>\n",
       "      <th>Issue rate</th>\n",
       "      <td>4.5000%</td>\n",
       "    </tr>\n",
       "    <tr>\n",
       "      <th>Market rate</th>\n",
       "      <td>4.6940%</td>\n",
       "    </tr>\n",
       "    <tr>\n",
       "      <th>Duration</th>\n",
       "      <td>4.24</td>\n",
       "    </tr>\n",
       "  </tbody>\n",
       "</table>\n",
       "</div>"
      ],
      "text/plain": [
       "                     Debenture IPCA Spread\n",
       "Convention                     IPCA Spread\n",
       "Frequency                      Semi-annual\n",
       "Date                            2021-03-18\n",
       "Maturity                        2028-04-15\n",
       "Last payment date               2020-10-15\n",
       "Next payment date               2021-04-15\n",
       "Days to next payment                    19\n",
       "Remaining payments                      15\n",
       "Term to maturity                      7.06\n",
       "VNE                            1000.000000\n",
       "VNA                            1035.128180\n",
       "PU Par                         1050.427852\n",
       "Price                          1042.195266\n",
       "Price/Par ratio                     99.22%\n",
       "Issue rate                         4.5000%\n",
       "Market rate                        4.6940%\n",
       "Duration                              4.24"
      ]
     },
     "execution_count": 89,
     "metadata": {},
     "output_type": "execute_result"
    }
   ],
   "source": [
    "utp.des()"
   ]
  },
  {
   "cell_type": "code",
   "execution_count": 90,
   "metadata": {},
   "outputs": [],
   "source": [
    "cf_utp = utp.cashflow()"
   ]
  },
  {
   "cell_type": "code",
   "execution_count": 91,
   "metadata": {},
   "outputs": [
    {
     "data": {
      "text/html": [
       "<div>\n",
       "<style scoped>\n",
       "    .dataframe tbody tr th:only-of-type {\n",
       "        vertical-align: middle;\n",
       "    }\n",
       "\n",
       "    .dataframe tbody tr th {\n",
       "        vertical-align: top;\n",
       "    }\n",
       "\n",
       "    .dataframe thead th {\n",
       "        text-align: right;\n",
       "    }\n",
       "</style>\n",
       "<table border=\"1\" class=\"dataframe\">\n",
       "  <thead>\n",
       "    <tr style=\"text-align: right;\">\n",
       "      <th></th>\n",
       "      <th>Date</th>\n",
       "      <th>Days</th>\n",
       "      <th>Interests</th>\n",
       "      <th>Redemptions</th>\n",
       "      <th>Payments</th>\n",
       "      <th>PV of Cash Flows</th>\n",
       "    </tr>\n",
       "  </thead>\n",
       "  <tbody>\n",
       "    <tr>\n",
       "      <th>0</th>\n",
       "      <td>2021-04-15</td>\n",
       "      <td>19</td>\n",
       "      <td>18.791553</td>\n",
       "      <td>0.000000</td>\n",
       "      <td>18.791553</td>\n",
       "      <td>18.726673</td>\n",
       "    </tr>\n",
       "    <tr>\n",
       "      <th>1</th>\n",
       "      <td>2021-10-15</td>\n",
       "      <td>146</td>\n",
       "      <td>23.218947</td>\n",
       "      <td>25.878204</td>\n",
       "      <td>49.097152</td>\n",
       "      <td>47.809512</td>\n",
       "    </tr>\n",
       "    <tr>\n",
       "      <th>2</th>\n",
       "      <td>2022-04-18</td>\n",
       "      <td>272</td>\n",
       "      <td>22.458249</td>\n",
       "      <td>28.375063</td>\n",
       "      <td>50.833312</td>\n",
       "      <td>48.377734</td>\n",
       "    </tr>\n",
       "    <tr>\n",
       "      <th>3</th>\n",
       "      <td>2022-10-17</td>\n",
       "      <td>398</td>\n",
       "      <td>21.826836</td>\n",
       "      <td>28.374749</td>\n",
       "      <td>50.201585</td>\n",
       "      <td>46.693201</td>\n",
       "    </tr>\n",
       "    <tr>\n",
       "      <th>4</th>\n",
       "      <td>2023-04-17</td>\n",
       "      <td>523</td>\n",
       "      <td>21.025368</td>\n",
       "      <td>41.545200</td>\n",
       "      <td>62.570568</td>\n",
       "      <td>56.888498</td>\n",
       "    </tr>\n",
       "    <tr>\n",
       "      <th>5</th>\n",
       "      <td>2023-10-16</td>\n",
       "      <td>648</td>\n",
       "      <td>20.108305</td>\n",
       "      <td>41.545012</td>\n",
       "      <td>61.653317</td>\n",
       "      <td>54.793492</td>\n",
       "    </tr>\n",
       "    <tr>\n",
       "      <th>6</th>\n",
       "      <td>2024-04-15</td>\n",
       "      <td>771</td>\n",
       "      <td>18.880875</td>\n",
       "      <td>80.362170</td>\n",
       "      <td>99.243045</td>\n",
       "      <td>86.247970</td>\n",
       "    </tr>\n",
       "    <tr>\n",
       "      <th>7</th>\n",
       "      <td>2024-10-15</td>\n",
       "      <td>900</td>\n",
       "      <td>17.981000</td>\n",
       "      <td>80.361360</td>\n",
       "      <td>98.342360</td>\n",
       "      <td>83.481715</td>\n",
       "    </tr>\n",
       "    <tr>\n",
       "      <th>8</th>\n",
       "      <td>2025-04-15</td>\n",
       "      <td>1025</td>\n",
       "      <td>15.643454</td>\n",
       "      <td>79.586194</td>\n",
       "      <td>95.229648</td>\n",
       "      <td>79.020737</td>\n",
       "    </tr>\n",
       "    <tr>\n",
       "      <th>9</th>\n",
       "      <td>2025-10-15</td>\n",
       "      <td>1152</td>\n",
       "      <td>14.111339</td>\n",
       "      <td>79.586212</td>\n",
       "      <td>93.697551</td>\n",
       "      <td>75.972634</td>\n",
       "    </tr>\n",
       "    <tr>\n",
       "      <th>10</th>\n",
       "      <td>2026-04-15</td>\n",
       "      <td>1277</td>\n",
       "      <td>12.129903</td>\n",
       "      <td>84.653184</td>\n",
       "      <td>96.783087</td>\n",
       "      <td>76.709044</td>\n",
       "    </tr>\n",
       "    <tr>\n",
       "      <th>11</th>\n",
       "      <td>2026-10-15</td>\n",
       "      <td>1403</td>\n",
       "      <td>10.344276</td>\n",
       "      <td>84.653482</td>\n",
       "      <td>94.997758</td>\n",
       "      <td>73.586740</td>\n",
       "    </tr>\n",
       "    <tr>\n",
       "      <th>12</th>\n",
       "      <td>2027-04-15</td>\n",
       "      <td>1527</td>\n",
       "      <td>8.324778</td>\n",
       "      <td>82.368120</td>\n",
       "      <td>90.692898</td>\n",
       "      <td>68.684178</td>\n",
       "    </tr>\n",
       "    <tr>\n",
       "      <th>13</th>\n",
       "      <td>2027-10-15</td>\n",
       "      <td>1654</td>\n",
       "      <td>6.680828</td>\n",
       "      <td>82.368035</td>\n",
       "      <td>89.048863</td>\n",
       "      <td>65.897941</td>\n",
       "    </tr>\n",
       "    <tr>\n",
       "      <th>14</th>\n",
       "      <td>2028-04-17</td>\n",
       "      <td>1780</td>\n",
       "      <td>4.794754</td>\n",
       "      <td>215.471195</td>\n",
       "      <td>220.265950</td>\n",
       "      <td>159.305195</td>\n",
       "    </tr>\n",
       "  </tbody>\n",
       "</table>\n",
       "</div>"
      ],
      "text/plain": [
       "          Date  Days  Interests  Redemptions    Payments  PV of Cash Flows\n",
       "0   2021-04-15    19  18.791553     0.000000   18.791553         18.726673\n",
       "1   2021-10-15   146  23.218947    25.878204   49.097152         47.809512\n",
       "2   2022-04-18   272  22.458249    28.375063   50.833312         48.377734\n",
       "3   2022-10-17   398  21.826836    28.374749   50.201585         46.693201\n",
       "4   2023-04-17   523  21.025368    41.545200   62.570568         56.888498\n",
       "5   2023-10-16   648  20.108305    41.545012   61.653317         54.793492\n",
       "6   2024-04-15   771  18.880875    80.362170   99.243045         86.247970\n",
       "7   2024-10-15   900  17.981000    80.361360   98.342360         83.481715\n",
       "8   2025-04-15  1025  15.643454    79.586194   95.229648         79.020737\n",
       "9   2025-10-15  1152  14.111339    79.586212   93.697551         75.972634\n",
       "10  2026-04-15  1277  12.129903    84.653184   96.783087         76.709044\n",
       "11  2026-10-15  1403  10.344276    84.653482   94.997758         73.586740\n",
       "12  2027-04-15  1527   8.324778    82.368120   90.692898         68.684178\n",
       "13  2027-10-15  1654   6.680828    82.368035   89.048863         65.897941\n",
       "14  2028-04-17  1780   4.794754   215.471195  220.265950        159.305195"
      ]
     },
     "execution_count": 91,
     "metadata": {},
     "output_type": "execute_result"
    }
   ],
   "source": [
    "cf_utp.head(20)"
   ]
  }
 ],
 "metadata": {
  "kernelspec": {
   "display_name": "Python 3",
   "language": "python",
   "name": "python3"
  },
  "language_info": {
   "codemirror_mode": {
    "name": "ipython",
    "version": 3
   },
   "file_extension": ".py",
   "mimetype": "text/x-python",
   "name": "python",
   "nbconvert_exporter": "python",
   "pygments_lexer": "ipython3",
   "version": "3.9.1"
  }
 },
 "nbformat": 4,
 "nbformat_minor": 2
}
